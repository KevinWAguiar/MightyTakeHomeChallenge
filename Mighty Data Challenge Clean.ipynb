{
 "cells": [
  {
   "cell_type": "code",
   "execution_count": 1,
   "metadata": {},
   "outputs": [],
   "source": [
    "import pandas as pd\n",
    "import numpy as np\n",
    "import regex as re\n",
    "import datetime\n"
   ]
  },
  {
   "cell_type": "code",
   "execution_count": 2,
   "metadata": {},
   "outputs": [],
   "source": [
    "df = pd.read_csv('/Users/KevinWAguiar/Desktop/mighty_data_challenge.csv')"
   ]
  },
  {
   "cell_type": "code",
   "execution_count": 3,
   "metadata": {},
   "outputs": [
    {
     "data": {
      "text/html": [
       "<div>\n",
       "<style scoped>\n",
       "    .dataframe tbody tr th:only-of-type {\n",
       "        vertical-align: middle;\n",
       "    }\n",
       "\n",
       "    .dataframe tbody tr th {\n",
       "        vertical-align: top;\n",
       "    }\n",
       "\n",
       "    .dataframe thead th {\n",
       "        text-align: right;\n",
       "    }\n",
       "</style>\n",
       "<table border=\"1\" class=\"dataframe\">\n",
       "  <thead>\n",
       "    <tr style=\"text-align: right;\">\n",
       "      <th></th>\n",
       "      <th>plaintiff_name</th>\n",
       "      <th>plaintiff_address</th>\n",
       "      <th>plainitiff_phone</th>\n",
       "      <th>plaintiff_email</th>\n",
       "      <th>agreement_date</th>\n",
       "      <th>lien_description</th>\n",
       "      <th>lien_open_closed</th>\n",
       "      <th>lienholder</th>\n",
       "      <th>attorney</th>\n",
       "    </tr>\n",
       "  </thead>\n",
       "  <tbody>\n",
       "    <tr>\n",
       "      <th>0</th>\n",
       "      <td>Steve Freud</td>\n",
       "      <td>4673 Cardath Ave</td>\n",
       "      <td>(936) 120-0443</td>\n",
       "      <td>sfreud@fake.gmail.com</td>\n",
       "      <td>4/16/2015</td>\n",
       "      <td>this is the first lien on the case , valued at...</td>\n",
       "      <td>OPEN</td>\n",
       "      <td>General Assembly</td>\n",
       "      <td>Joseph Breitstein</td>\n",
       "    </tr>\n",
       "    <tr>\n",
       "      <th>1</th>\n",
       "      <td>Steve Freud</td>\n",
       "      <td>4673 Cardath Ave</td>\n",
       "      <td>(936) 120-0443</td>\n",
       "      <td>sfreud@fake.gmail.com</td>\n",
       "      <td>4/16/2015</td>\n",
       "      <td>second lien on the case</td>\n",
       "      <td>OPEN</td>\n",
       "      <td>General Assembly</td>\n",
       "      <td>Joseph Breitstein</td>\n",
       "    </tr>\n",
       "    <tr>\n",
       "      <th>2</th>\n",
       "      <td>Jordan Leung</td>\n",
       "      <td>9261 Seside pl, NY</td>\n",
       "      <td>(736) 459-1203</td>\n",
       "      <td>charmander6@pokefan.com</td>\n",
       "      <td>9/19/2017</td>\n",
       "      <td>this interest has settled, waiting for payment</td>\n",
       "      <td>CLOSED</td>\n",
       "      <td>General Assembly</td>\n",
       "      <td>Julian Michaels</td>\n",
       "    </tr>\n",
       "    <tr>\n",
       "      <th>3</th>\n",
       "      <td>Bryce Eakin</td>\n",
       "      <td>6947 Palm Beach way, new York, NY 18342</td>\n",
       "      <td>(826) 259-2768</td>\n",
       "      <td>beakin@fake.gmail.com</td>\n",
       "      <td>2/2/2018</td>\n",
       "      <td>700</td>\n",
       "      <td>OPEN</td>\n",
       "      <td>General Assembly</td>\n",
       "      <td>Joseph Breitstein</td>\n",
       "    </tr>\n",
       "    <tr>\n",
       "      <th>4</th>\n",
       "      <td>Kyle Paine</td>\n",
       "      <td>NaN</td>\n",
       "      <td>NaN</td>\n",
       "      <td>kpaine@fake.gmail.com</td>\n",
       "      <td>6/9/2017</td>\n",
       "      <td>value is 100,000 pay off is expected to be tak...</td>\n",
       "      <td>OPEN</td>\n",
       "      <td>General Assembly</td>\n",
       "      <td>NaN</td>\n",
       "    </tr>\n",
       "  </tbody>\n",
       "</table>\n",
       "</div>"
      ],
      "text/plain": [
       "  plaintiff_name                        plaintiff_address plainitiff_phone  \\\n",
       "0    Steve Freud                         4673 Cardath Ave   (936) 120-0443   \n",
       "1    Steve Freud                         4673 Cardath Ave   (936) 120-0443   \n",
       "2   Jordan Leung                       9261 Seside pl, NY   (736) 459-1203   \n",
       "3    Bryce Eakin  6947 Palm Beach way, new York, NY 18342   (826) 259-2768   \n",
       "4     Kyle Paine                                      NaN              NaN   \n",
       "\n",
       "           plaintiff_email agreement_date  \\\n",
       "0    sfreud@fake.gmail.com      4/16/2015   \n",
       "1    sfreud@fake.gmail.com      4/16/2015   \n",
       "2  charmander6@pokefan.com      9/19/2017   \n",
       "3    beakin@fake.gmail.com       2/2/2018   \n",
       "4    kpaine@fake.gmail.com       6/9/2017   \n",
       "\n",
       "                                    lien_description lien_open_closed  \\\n",
       "0  this is the first lien on the case , valued at...             OPEN   \n",
       "1                            second lien on the case             OPEN   \n",
       "2     this interest has settled, waiting for payment           CLOSED   \n",
       "3                                                700             OPEN   \n",
       "4  value is 100,000 pay off is expected to be tak...             OPEN   \n",
       "\n",
       "         lienholder           attorney  \n",
       "0  General Assembly  Joseph Breitstein  \n",
       "1  General Assembly  Joseph Breitstein  \n",
       "2  General Assembly    Julian Michaels  \n",
       "3  General Assembly  Joseph Breitstein  \n",
       "4  General Assembly                NaN  "
      ]
     },
     "execution_count": 3,
     "metadata": {},
     "output_type": "execute_result"
    }
   ],
   "source": [
    "df.head()"
   ]
  },
  {
   "cell_type": "code",
   "execution_count": 4,
   "metadata": {},
   "outputs": [
    {
     "data": {
      "text/plain": [
       "(8, 9)"
      ]
     },
     "execution_count": 4,
     "metadata": {},
     "output_type": "execute_result"
    }
   ],
   "source": [
    "df.shape"
   ]
  },
  {
   "cell_type": "code",
   "execution_count": 5,
   "metadata": {},
   "outputs": [
    {
     "data": {
      "text/plain": [
       "(8, 9)"
      ]
     },
     "execution_count": 5,
     "metadata": {},
     "output_type": "execute_result"
    }
   ],
   "source": [
    "df.drop_duplicates().shape"
   ]
  },
  {
   "cell_type": "code",
   "execution_count": 6,
   "metadata": {},
   "outputs": [
    {
     "data": {
      "text/plain": [
       "plaintiff_name       0\n",
       "plaintiff_address    3\n",
       "plainitiff_phone     2\n",
       "plaintiff_email      2\n",
       "agreement_date       0\n",
       "lien_description     0\n",
       "lien_open_closed     0\n",
       "lienholder           0\n",
       "attorney             1\n",
       "dtype: int64"
      ]
     },
     "execution_count": 6,
     "metadata": {},
     "output_type": "execute_result"
    }
   ],
   "source": [
    "df.isnull().sum()"
   ]
  },
  {
   "cell_type": "code",
   "execution_count": 7,
   "metadata": {},
   "outputs": [
    {
     "data": {
      "text/plain": [
       "plaintiff_name       object\n",
       "plaintiff_address    object\n",
       "plainitiff_phone     object\n",
       "plaintiff_email      object\n",
       "agreement_date       object\n",
       "lien_description     object\n",
       "lien_open_closed     object\n",
       "lienholder           object\n",
       "attorney             object\n",
       "dtype: object"
      ]
     },
     "execution_count": 7,
     "metadata": {},
     "output_type": "execute_result"
    }
   ],
   "source": [
    "df.dtypes"
   ]
  },
  {
   "cell_type": "markdown",
   "metadata": {},
   "source": [
    "---"
   ]
  },
  {
   "cell_type": "markdown",
   "metadata": {},
   "source": [
    "## Create 'id' column:"
   ]
  },
  {
   "cell_type": "markdown",
   "metadata": {},
   "source": [
    "---"
   ]
  },
  {
   "cell_type": "code",
   "execution_count": 8,
   "metadata": {},
   "outputs": [
    {
     "name": "stderr",
     "output_type": "stream",
     "text": [
      "/anaconda3/lib/python3.6/site-packages/ipykernel_launcher.py:5: SettingWithCopyWarning: \n",
      "A value is trying to be set on a copy of a slice from a DataFrame\n",
      "\n",
      "See the caveats in the documentation: http://pandas.pydata.org/pandas-docs/stable/indexing.html#indexing-view-versus-copy\n",
      "  \"\"\"\n"
     ]
    }
   ],
   "source": [
    "df['Id'] = 0\n",
    "\n",
    "counter = 5010\n",
    "for i in range(df.shape[0]):\n",
    "    df['Id'][i] = counter\n",
    "    counter += 1"
   ]
  },
  {
   "cell_type": "code",
   "execution_count": 9,
   "metadata": {
    "scrolled": false
   },
   "outputs": [
    {
     "data": {
      "text/html": [
       "<div>\n",
       "<style scoped>\n",
       "    .dataframe tbody tr th:only-of-type {\n",
       "        vertical-align: middle;\n",
       "    }\n",
       "\n",
       "    .dataframe tbody tr th {\n",
       "        vertical-align: top;\n",
       "    }\n",
       "\n",
       "    .dataframe thead th {\n",
       "        text-align: right;\n",
       "    }\n",
       "</style>\n",
       "<table border=\"1\" class=\"dataframe\">\n",
       "  <thead>\n",
       "    <tr style=\"text-align: right;\">\n",
       "      <th></th>\n",
       "      <th>plaintiff_name</th>\n",
       "      <th>plaintiff_address</th>\n",
       "      <th>plainitiff_phone</th>\n",
       "      <th>plaintiff_email</th>\n",
       "      <th>agreement_date</th>\n",
       "      <th>lien_description</th>\n",
       "      <th>lien_open_closed</th>\n",
       "      <th>lienholder</th>\n",
       "      <th>attorney</th>\n",
       "      <th>Id</th>\n",
       "    </tr>\n",
       "  </thead>\n",
       "  <tbody>\n",
       "    <tr>\n",
       "      <th>0</th>\n",
       "      <td>Steve Freud</td>\n",
       "      <td>4673 Cardath Ave</td>\n",
       "      <td>(936) 120-0443</td>\n",
       "      <td>sfreud@fake.gmail.com</td>\n",
       "      <td>4/16/2015</td>\n",
       "      <td>this is the first lien on the case , valued at...</td>\n",
       "      <td>OPEN</td>\n",
       "      <td>General Assembly</td>\n",
       "      <td>Joseph Breitstein</td>\n",
       "      <td>5010</td>\n",
       "    </tr>\n",
       "    <tr>\n",
       "      <th>1</th>\n",
       "      <td>Steve Freud</td>\n",
       "      <td>4673 Cardath Ave</td>\n",
       "      <td>(936) 120-0443</td>\n",
       "      <td>sfreud@fake.gmail.com</td>\n",
       "      <td>4/16/2015</td>\n",
       "      <td>second lien on the case</td>\n",
       "      <td>OPEN</td>\n",
       "      <td>General Assembly</td>\n",
       "      <td>Joseph Breitstein</td>\n",
       "      <td>5011</td>\n",
       "    </tr>\n",
       "    <tr>\n",
       "      <th>2</th>\n",
       "      <td>Jordan Leung</td>\n",
       "      <td>9261 Seside pl, NY</td>\n",
       "      <td>(736) 459-1203</td>\n",
       "      <td>charmander6@pokefan.com</td>\n",
       "      <td>9/19/2017</td>\n",
       "      <td>this interest has settled, waiting for payment</td>\n",
       "      <td>CLOSED</td>\n",
       "      <td>General Assembly</td>\n",
       "      <td>Julian Michaels</td>\n",
       "      <td>5012</td>\n",
       "    </tr>\n",
       "  </tbody>\n",
       "</table>\n",
       "</div>"
      ],
      "text/plain": [
       "  plaintiff_name   plaintiff_address plainitiff_phone  \\\n",
       "0    Steve Freud    4673 Cardath Ave   (936) 120-0443   \n",
       "1    Steve Freud    4673 Cardath Ave   (936) 120-0443   \n",
       "2   Jordan Leung  9261 Seside pl, NY   (736) 459-1203   \n",
       "\n",
       "           plaintiff_email agreement_date  \\\n",
       "0    sfreud@fake.gmail.com      4/16/2015   \n",
       "1    sfreud@fake.gmail.com      4/16/2015   \n",
       "2  charmander6@pokefan.com      9/19/2017   \n",
       "\n",
       "                                    lien_description lien_open_closed  \\\n",
       "0  this is the first lien on the case , valued at...             OPEN   \n",
       "1                            second lien on the case             OPEN   \n",
       "2     this interest has settled, waiting for payment           CLOSED   \n",
       "\n",
       "         lienholder           attorney    Id  \n",
       "0  General Assembly  Joseph Breitstein  5010  \n",
       "1  General Assembly  Joseph Breitstein  5011  \n",
       "2  General Assembly    Julian Michaels  5012  "
      ]
     },
     "execution_count": 9,
     "metadata": {},
     "output_type": "execute_result"
    }
   ],
   "source": [
    "df.head(3)"
   ]
  },
  {
   "cell_type": "markdown",
   "metadata": {},
   "source": [
    "---"
   ]
  },
  {
   "cell_type": "markdown",
   "metadata": {},
   "source": [
    "## Rearrange column order:"
   ]
  },
  {
   "cell_type": "markdown",
   "metadata": {},
   "source": [
    "---"
   ]
  },
  {
   "cell_type": "code",
   "execution_count": 10,
   "metadata": {
    "scrolled": true
   },
   "outputs": [
    {
     "data": {
      "text/html": [
       "<div>\n",
       "<style scoped>\n",
       "    .dataframe tbody tr th:only-of-type {\n",
       "        vertical-align: middle;\n",
       "    }\n",
       "\n",
       "    .dataframe tbody tr th {\n",
       "        vertical-align: top;\n",
       "    }\n",
       "\n",
       "    .dataframe thead th {\n",
       "        text-align: right;\n",
       "    }\n",
       "</style>\n",
       "<table border=\"1\" class=\"dataframe\">\n",
       "  <thead>\n",
       "    <tr style=\"text-align: right;\">\n",
       "      <th></th>\n",
       "      <th>Id</th>\n",
       "      <th>plaintiff_name</th>\n",
       "      <th>plaintiff_address</th>\n",
       "      <th>plainitiff_phone</th>\n",
       "      <th>plaintiff_email</th>\n",
       "      <th>agreement_date</th>\n",
       "      <th>lien_description</th>\n",
       "      <th>lien_open_closed</th>\n",
       "      <th>lienholder</th>\n",
       "      <th>attorney</th>\n",
       "    </tr>\n",
       "  </thead>\n",
       "  <tbody>\n",
       "    <tr>\n",
       "      <th>0</th>\n",
       "      <td>5010</td>\n",
       "      <td>Steve Freud</td>\n",
       "      <td>4673 Cardath Ave</td>\n",
       "      <td>(936) 120-0443</td>\n",
       "      <td>sfreud@fake.gmail.com</td>\n",
       "      <td>4/16/2015</td>\n",
       "      <td>this is the first lien on the case , valued at...</td>\n",
       "      <td>OPEN</td>\n",
       "      <td>General Assembly</td>\n",
       "      <td>Joseph Breitstein</td>\n",
       "    </tr>\n",
       "    <tr>\n",
       "      <th>1</th>\n",
       "      <td>5011</td>\n",
       "      <td>Steve Freud</td>\n",
       "      <td>4673 Cardath Ave</td>\n",
       "      <td>(936) 120-0443</td>\n",
       "      <td>sfreud@fake.gmail.com</td>\n",
       "      <td>4/16/2015</td>\n",
       "      <td>second lien on the case</td>\n",
       "      <td>OPEN</td>\n",
       "      <td>General Assembly</td>\n",
       "      <td>Joseph Breitstein</td>\n",
       "    </tr>\n",
       "    <tr>\n",
       "      <th>2</th>\n",
       "      <td>5012</td>\n",
       "      <td>Jordan Leung</td>\n",
       "      <td>9261 Seside pl, NY</td>\n",
       "      <td>(736) 459-1203</td>\n",
       "      <td>charmander6@pokefan.com</td>\n",
       "      <td>9/19/2017</td>\n",
       "      <td>this interest has settled, waiting for payment</td>\n",
       "      <td>CLOSED</td>\n",
       "      <td>General Assembly</td>\n",
       "      <td>Julian Michaels</td>\n",
       "    </tr>\n",
       "  </tbody>\n",
       "</table>\n",
       "</div>"
      ],
      "text/plain": [
       "     Id plaintiff_name   plaintiff_address plainitiff_phone  \\\n",
       "0  5010    Steve Freud    4673 Cardath Ave   (936) 120-0443   \n",
       "1  5011    Steve Freud    4673 Cardath Ave   (936) 120-0443   \n",
       "2  5012   Jordan Leung  9261 Seside pl, NY   (736) 459-1203   \n",
       "\n",
       "           plaintiff_email agreement_date  \\\n",
       "0    sfreud@fake.gmail.com      4/16/2015   \n",
       "1    sfreud@fake.gmail.com      4/16/2015   \n",
       "2  charmander6@pokefan.com      9/19/2017   \n",
       "\n",
       "                                    lien_description lien_open_closed  \\\n",
       "0  this is the first lien on the case , valued at...             OPEN   \n",
       "1                            second lien on the case             OPEN   \n",
       "2     this interest has settled, waiting for payment           CLOSED   \n",
       "\n",
       "         lienholder           attorney  \n",
       "0  General Assembly  Joseph Breitstein  \n",
       "1  General Assembly  Joseph Breitstein  \n",
       "2  General Assembly    Julian Michaels  "
      ]
     },
     "execution_count": 10,
     "metadata": {},
     "output_type": "execute_result"
    }
   ],
   "source": [
    "col_list = list(df.columns)\n",
    "col_list.remove('Id')\n",
    "col_list = ['Id'] + col_list\n",
    "col_list\n",
    "\n",
    "df = df[col_list]\n",
    "\n",
    "df.head(3)"
   ]
  },
  {
   "cell_type": "markdown",
   "metadata": {},
   "source": [
    "---"
   ]
  },
  {
   "cell_type": "markdown",
   "metadata": {},
   "source": [
    "## Replace 'nan' strings with NaN values:"
   ]
  },
  {
   "cell_type": "markdown",
   "metadata": {},
   "source": [
    "---"
   ]
  },
  {
   "cell_type": "code",
   "execution_count": 11,
   "metadata": {},
   "outputs": [],
   "source": [
    "df.replace('nan', np.nan, inplace=True)"
   ]
  },
  {
   "cell_type": "markdown",
   "metadata": {},
   "source": [
    "---"
   ]
  },
  {
   "cell_type": "markdown",
   "metadata": {},
   "source": [
    "## Reformat/change 'plaintiff_phone' to int datatype:"
   ]
  },
  {
   "cell_type": "markdown",
   "metadata": {},
   "source": [
    "---"
   ]
  },
  {
   "cell_type": "code",
   "execution_count": 12,
   "metadata": {},
   "outputs": [
    {
     "name": "stderr",
     "output_type": "stream",
     "text": [
      "/anaconda3/lib/python3.6/site-packages/ipykernel_launcher.py:9: SettingWithCopyWarning: \n",
      "A value is trying to be set on a copy of a slice from a DataFrame\n",
      "\n",
      "See the caveats in the documentation: http://pandas.pydata.org/pandas-docs/stable/indexing.html#indexing-view-versus-copy\n",
      "  if __name__ == '__main__':\n"
     ]
    }
   ],
   "source": [
    "for _ in range(len(df.plainitiff_phone)):\n",
    "    if type(df.plainitiff_phone[_]) == float:\n",
    "        pass\n",
    "    else:\n",
    "        number = ''\n",
    "        for i in re.findall('[0-9]', df.plainitiff_phone[_]):\n",
    "            number += str(i)\n",
    "        number = int(number)\n",
    "        df.plainitiff_phone[_] = number"
   ]
  },
  {
   "cell_type": "code",
   "execution_count": 13,
   "metadata": {
    "scrolled": true
   },
   "outputs": [
    {
     "data": {
      "text/plain": [
       "0    9361200443\n",
       "1    9361200443\n",
       "2    7364591203\n",
       "3    8262592768\n",
       "4           NaN\n",
       "5    9372760317\n",
       "6       9036406\n",
       "7           NaN\n",
       "Name: plainitiff_phone, dtype: object"
      ]
     },
     "execution_count": 13,
     "metadata": {},
     "output_type": "execute_result"
    }
   ],
   "source": [
    "df.plainitiff_phone"
   ]
  },
  {
   "cell_type": "markdown",
   "metadata": {},
   "source": [
    "---"
   ]
  },
  {
   "cell_type": "markdown",
   "metadata": {},
   "source": [
    "## Reformat/change 'agreement_date' to datetime datatype:"
   ]
  },
  {
   "cell_type": "markdown",
   "metadata": {},
   "source": [
    "---"
   ]
  },
  {
   "cell_type": "code",
   "execution_count": 14,
   "metadata": {},
   "outputs": [
    {
     "name": "stderr",
     "output_type": "stream",
     "text": [
      "/anaconda3/lib/python3.6/site-packages/ipykernel_launcher.py:5: SettingWithCopyWarning: \n",
      "A value is trying to be set on a copy of a slice from a DataFrame\n",
      "\n",
      "See the caveats in the documentation: http://pandas.pydata.org/pandas-docs/stable/indexing.html#indexing-view-versus-copy\n",
      "  \"\"\"\n"
     ]
    }
   ],
   "source": [
    "for i in range(len(df.agreement_date)):\n",
    "    date_str = df.agreement_date[i]\n",
    "    format_str = '%m/%d/%Y'\n",
    "    datetime_obj = datetime.datetime.strptime(date_str, format_str)\n",
    "    df.agreement_date[i] = datetime_obj"
   ]
  },
  {
   "cell_type": "code",
   "execution_count": 15,
   "metadata": {
    "scrolled": true
   },
   "outputs": [
    {
     "data": {
      "text/html": [
       "<div>\n",
       "<style scoped>\n",
       "    .dataframe tbody tr th:only-of-type {\n",
       "        vertical-align: middle;\n",
       "    }\n",
       "\n",
       "    .dataframe tbody tr th {\n",
       "        vertical-align: top;\n",
       "    }\n",
       "\n",
       "    .dataframe thead th {\n",
       "        text-align: right;\n",
       "    }\n",
       "</style>\n",
       "<table border=\"1\" class=\"dataframe\">\n",
       "  <thead>\n",
       "    <tr style=\"text-align: right;\">\n",
       "      <th></th>\n",
       "      <th>Id</th>\n",
       "      <th>plaintiff_name</th>\n",
       "      <th>plaintiff_address</th>\n",
       "      <th>plainitiff_phone</th>\n",
       "      <th>plaintiff_email</th>\n",
       "      <th>agreement_date</th>\n",
       "      <th>lien_description</th>\n",
       "      <th>lien_open_closed</th>\n",
       "      <th>lienholder</th>\n",
       "      <th>attorney</th>\n",
       "    </tr>\n",
       "  </thead>\n",
       "  <tbody>\n",
       "    <tr>\n",
       "      <th>0</th>\n",
       "      <td>5010</td>\n",
       "      <td>Steve Freud</td>\n",
       "      <td>4673 Cardath Ave</td>\n",
       "      <td>9361200443</td>\n",
       "      <td>sfreud@fake.gmail.com</td>\n",
       "      <td>2015-04-16 00:00:00</td>\n",
       "      <td>this is the first lien on the case , valued at...</td>\n",
       "      <td>OPEN</td>\n",
       "      <td>General Assembly</td>\n",
       "      <td>Joseph Breitstein</td>\n",
       "    </tr>\n",
       "    <tr>\n",
       "      <th>1</th>\n",
       "      <td>5011</td>\n",
       "      <td>Steve Freud</td>\n",
       "      <td>4673 Cardath Ave</td>\n",
       "      <td>9361200443</td>\n",
       "      <td>sfreud@fake.gmail.com</td>\n",
       "      <td>2015-04-16 00:00:00</td>\n",
       "      <td>second lien on the case</td>\n",
       "      <td>OPEN</td>\n",
       "      <td>General Assembly</td>\n",
       "      <td>Joseph Breitstein</td>\n",
       "    </tr>\n",
       "    <tr>\n",
       "      <th>2</th>\n",
       "      <td>5012</td>\n",
       "      <td>Jordan Leung</td>\n",
       "      <td>9261 Seside pl, NY</td>\n",
       "      <td>7364591203</td>\n",
       "      <td>charmander6@pokefan.com</td>\n",
       "      <td>2017-09-19 00:00:00</td>\n",
       "      <td>this interest has settled, waiting for payment</td>\n",
       "      <td>CLOSED</td>\n",
       "      <td>General Assembly</td>\n",
       "      <td>Julian Michaels</td>\n",
       "    </tr>\n",
       "    <tr>\n",
       "      <th>3</th>\n",
       "      <td>5013</td>\n",
       "      <td>Bryce Eakin</td>\n",
       "      <td>6947 Palm Beach way, new York, NY 18342</td>\n",
       "      <td>8262592768</td>\n",
       "      <td>beakin@fake.gmail.com</td>\n",
       "      <td>2018-02-02 00:00:00</td>\n",
       "      <td>700</td>\n",
       "      <td>OPEN</td>\n",
       "      <td>General Assembly</td>\n",
       "      <td>Joseph Breitstein</td>\n",
       "    </tr>\n",
       "    <tr>\n",
       "      <th>4</th>\n",
       "      <td>5014</td>\n",
       "      <td>Kyle Paine</td>\n",
       "      <td>NaN</td>\n",
       "      <td>NaN</td>\n",
       "      <td>kpaine@fake.gmail.com</td>\n",
       "      <td>2017-06-09 00:00:00</td>\n",
       "      <td>value is 100,000 pay off is expected to be tak...</td>\n",
       "      <td>OPEN</td>\n",
       "      <td>General Assembly</td>\n",
       "      <td>NaN</td>\n",
       "    </tr>\n",
       "    <tr>\n",
       "      <th>5</th>\n",
       "      <td>5015</td>\n",
       "      <td>Mikey Bipps</td>\n",
       "      <td>NaN</td>\n",
       "      <td>9372760317</td>\n",
       "      <td>NaN</td>\n",
       "      <td>2018-05-27 00:00:00</td>\n",
       "      <td>bought at 30% of value, value is 300</td>\n",
       "      <td>OPEN</td>\n",
       "      <td>General Assembly</td>\n",
       "      <td>Joseph Breitstein</td>\n",
       "    </tr>\n",
       "    <tr>\n",
       "      <th>6</th>\n",
       "      <td>5016</td>\n",
       "      <td>Tommy Boi</td>\n",
       "      <td>NaN</td>\n",
       "      <td>9036406</td>\n",
       "      <td>NaN</td>\n",
       "      <td>2019-01-02 00:00:00</td>\n",
       "      <td>values is 400</td>\n",
       "      <td>CLOSED</td>\n",
       "      <td>General Assembly</td>\n",
       "      <td>Sarah McConnor</td>\n",
       "    </tr>\n",
       "    <tr>\n",
       "      <th>7</th>\n",
       "      <td>5017</td>\n",
       "      <td>Mimi Swerve</td>\n",
       "      <td>8456 Lexington, Manhattan NY</td>\n",
       "      <td>NaN</td>\n",
       "      <td>mimis@fake.yahoo.com</td>\n",
       "      <td>2017-04-07 00:00:00</td>\n",
       "      <td>plaintiff is requesting additional liens</td>\n",
       "      <td>OPEN</td>\n",
       "      <td>General Assembly</td>\n",
       "      <td>Lisle Von Trapp</td>\n",
       "    </tr>\n",
       "  </tbody>\n",
       "</table>\n",
       "</div>"
      ],
      "text/plain": [
       "     Id plaintiff_name                        plaintiff_address  \\\n",
       "0  5010    Steve Freud                         4673 Cardath Ave   \n",
       "1  5011    Steve Freud                         4673 Cardath Ave   \n",
       "2  5012   Jordan Leung                       9261 Seside pl, NY   \n",
       "3  5013    Bryce Eakin  6947 Palm Beach way, new York, NY 18342   \n",
       "4  5014     Kyle Paine                                      NaN   \n",
       "5  5015   Mikey Bipps                                       NaN   \n",
       "6  5016      Tommy Boi                                      NaN   \n",
       "7  5017    Mimi Swerve             8456 Lexington, Manhattan NY   \n",
       "\n",
       "  plainitiff_phone          plaintiff_email       agreement_date  \\\n",
       "0       9361200443    sfreud@fake.gmail.com  2015-04-16 00:00:00   \n",
       "1       9361200443    sfreud@fake.gmail.com  2015-04-16 00:00:00   \n",
       "2       7364591203  charmander6@pokefan.com  2017-09-19 00:00:00   \n",
       "3       8262592768    beakin@fake.gmail.com  2018-02-02 00:00:00   \n",
       "4              NaN    kpaine@fake.gmail.com  2017-06-09 00:00:00   \n",
       "5       9372760317                      NaN  2018-05-27 00:00:00   \n",
       "6          9036406                      NaN  2019-01-02 00:00:00   \n",
       "7              NaN     mimis@fake.yahoo.com  2017-04-07 00:00:00   \n",
       "\n",
       "                                    lien_description lien_open_closed  \\\n",
       "0  this is the first lien on the case , valued at...             OPEN   \n",
       "1                            second lien on the case             OPEN   \n",
       "2     this interest has settled, waiting for payment           CLOSED   \n",
       "3                                                700             OPEN   \n",
       "4  value is 100,000 pay off is expected to be tak...             OPEN   \n",
       "5               bought at 30% of value, value is 300             OPEN   \n",
       "6                                      values is 400           CLOSED   \n",
       "7           plaintiff is requesting additional liens             OPEN   \n",
       "\n",
       "         lienholder           attorney  \n",
       "0  General Assembly  Joseph Breitstein  \n",
       "1  General Assembly  Joseph Breitstein  \n",
       "2  General Assembly    Julian Michaels  \n",
       "3  General Assembly  Joseph Breitstein  \n",
       "4  General Assembly                NaN  \n",
       "5  General Assembly  Joseph Breitstein  \n",
       "6  General Assembly     Sarah McConnor  \n",
       "7  General Assembly    Lisle Von Trapp  "
      ]
     },
     "execution_count": 15,
     "metadata": {},
     "output_type": "execute_result"
    }
   ],
   "source": [
    "df"
   ]
  },
  {
   "cell_type": "markdown",
   "metadata": {},
   "source": [
    "---"
   ]
  },
  {
   "cell_type": "markdown",
   "metadata": {},
   "source": [
    "## Function to create random ID's for given column:"
   ]
  },
  {
   "cell_type": "markdown",
   "metadata": {},
   "source": [
    "---"
   ]
  },
  {
   "cell_type": "code",
   "execution_count": 16,
   "metadata": {},
   "outputs": [],
   "source": [
    "def create_random_id(column, df=df):\n",
    "    #create a list of keys to be used in temp. dictionary below:\n",
    "    keys_list = list(dict(df[column].value_counts()).keys())\n",
    "    \n",
    "    #create a list of numbers between 1000 and 9999 to use when making a four digit id number below:\n",
    "    random_nums = list(range(1000, 9999))\n",
    "    \n",
    "    #use a temp. dictionary to create id's to ensure that each key only has one unique value id number:\n",
    "    temp_dict = {}\n",
    "    \n",
    "    #for loop through each key:\n",
    "    for i in keys_list:\n",
    "        \n",
    "        #assign a number as the id for the given key:\n",
    "        temp_dict[i] = np.random.choice(random_nums)\n",
    "        \n",
    "        #remove the number assigned to the key from the list of numbers to ensure that no duplicates are created:\n",
    "        random_nums.remove(temp_dict[i])\n",
    "    \n",
    "    #create a new column with the id numbers for each value in the given column:\n",
    "    df[str(column + '_id')] = 0\n",
    "    \n",
    "    for i in range(len(df[column])):\n",
    "        #if statement to deal with NaN values:\n",
    "        if type(df[column][i]) == float:\n",
    "            df[str(column + '_id')][i] = np.nan\n",
    "        #use the temp dictionary created above to assign the new column's values:\n",
    "        else:\n",
    "            df[str(column + '_id')][i] = int(temp_dict[df[column][i]])"
   ]
  },
  {
   "cell_type": "markdown",
   "metadata": {},
   "source": [
    "---"
   ]
  },
  {
   "cell_type": "markdown",
   "metadata": {},
   "source": [
    "# Plaintiffs table:"
   ]
  },
  {
   "cell_type": "markdown",
   "metadata": {},
   "source": [
    "---"
   ]
  },
  {
   "cell_type": "code",
   "execution_count": 17,
   "metadata": {},
   "outputs": [
    {
     "data": {
      "text/html": [
       "<div>\n",
       "<style scoped>\n",
       "    .dataframe tbody tr th:only-of-type {\n",
       "        vertical-align: middle;\n",
       "    }\n",
       "\n",
       "    .dataframe tbody tr th {\n",
       "        vertical-align: top;\n",
       "    }\n",
       "\n",
       "    .dataframe thead th {\n",
       "        text-align: right;\n",
       "    }\n",
       "</style>\n",
       "<table border=\"1\" class=\"dataframe\">\n",
       "  <thead>\n",
       "    <tr style=\"text-align: right;\">\n",
       "      <th></th>\n",
       "      <th>Id</th>\n",
       "      <th>plaintiff_name</th>\n",
       "      <th>plaintiff_address</th>\n",
       "      <th>plainitiff_phone</th>\n",
       "      <th>plaintiff_email</th>\n",
       "      <th>agreement_date</th>\n",
       "      <th>lien_description</th>\n",
       "      <th>lien_open_closed</th>\n",
       "      <th>lienholder</th>\n",
       "      <th>attorney</th>\n",
       "    </tr>\n",
       "  </thead>\n",
       "  <tbody>\n",
       "    <tr>\n",
       "      <th>0</th>\n",
       "      <td>5010</td>\n",
       "      <td>Steve Freud</td>\n",
       "      <td>4673 Cardath Ave</td>\n",
       "      <td>9361200443</td>\n",
       "      <td>sfreud@fake.gmail.com</td>\n",
       "      <td>2015-04-16 00:00:00</td>\n",
       "      <td>this is the first lien on the case , valued at...</td>\n",
       "      <td>OPEN</td>\n",
       "      <td>General Assembly</td>\n",
       "      <td>Joseph Breitstein</td>\n",
       "    </tr>\n",
       "    <tr>\n",
       "      <th>1</th>\n",
       "      <td>5011</td>\n",
       "      <td>Steve Freud</td>\n",
       "      <td>4673 Cardath Ave</td>\n",
       "      <td>9361200443</td>\n",
       "      <td>sfreud@fake.gmail.com</td>\n",
       "      <td>2015-04-16 00:00:00</td>\n",
       "      <td>second lien on the case</td>\n",
       "      <td>OPEN</td>\n",
       "      <td>General Assembly</td>\n",
       "      <td>Joseph Breitstein</td>\n",
       "    </tr>\n",
       "    <tr>\n",
       "      <th>2</th>\n",
       "      <td>5012</td>\n",
       "      <td>Jordan Leung</td>\n",
       "      <td>9261 Seside pl, NY</td>\n",
       "      <td>7364591203</td>\n",
       "      <td>charmander6@pokefan.com</td>\n",
       "      <td>2017-09-19 00:00:00</td>\n",
       "      <td>this interest has settled, waiting for payment</td>\n",
       "      <td>CLOSED</td>\n",
       "      <td>General Assembly</td>\n",
       "      <td>Julian Michaels</td>\n",
       "    </tr>\n",
       "  </tbody>\n",
       "</table>\n",
       "</div>"
      ],
      "text/plain": [
       "     Id plaintiff_name   plaintiff_address plainitiff_phone  \\\n",
       "0  5010    Steve Freud    4673 Cardath Ave       9361200443   \n",
       "1  5011    Steve Freud    4673 Cardath Ave       9361200443   \n",
       "2  5012   Jordan Leung  9261 Seside pl, NY       7364591203   \n",
       "\n",
       "           plaintiff_email       agreement_date  \\\n",
       "0    sfreud@fake.gmail.com  2015-04-16 00:00:00   \n",
       "1    sfreud@fake.gmail.com  2015-04-16 00:00:00   \n",
       "2  charmander6@pokefan.com  2017-09-19 00:00:00   \n",
       "\n",
       "                                    lien_description lien_open_closed  \\\n",
       "0  this is the first lien on the case , valued at...             OPEN   \n",
       "1                            second lien on the case             OPEN   \n",
       "2     this interest has settled, waiting for payment           CLOSED   \n",
       "\n",
       "         lienholder           attorney  \n",
       "0  General Assembly  Joseph Breitstein  \n",
       "1  General Assembly  Joseph Breitstein  \n",
       "2  General Assembly    Julian Michaels  "
      ]
     },
     "execution_count": 17,
     "metadata": {},
     "output_type": "execute_result"
    }
   ],
   "source": [
    "df.head(3)"
   ]
  },
  {
   "cell_type": "code",
   "execution_count": 18,
   "metadata": {},
   "outputs": [],
   "source": [
    "df_plaintiffs = df[['Id', 'plaintiff_name', 'plaintiff_address', 'plainitiff_phone', 'plaintiff_email']]"
   ]
  },
  {
   "cell_type": "code",
   "execution_count": 19,
   "metadata": {
    "scrolled": false
   },
   "outputs": [
    {
     "data": {
      "text/html": [
       "<div>\n",
       "<style scoped>\n",
       "    .dataframe tbody tr th:only-of-type {\n",
       "        vertical-align: middle;\n",
       "    }\n",
       "\n",
       "    .dataframe tbody tr th {\n",
       "        vertical-align: top;\n",
       "    }\n",
       "\n",
       "    .dataframe thead th {\n",
       "        text-align: right;\n",
       "    }\n",
       "</style>\n",
       "<table border=\"1\" class=\"dataframe\">\n",
       "  <thead>\n",
       "    <tr style=\"text-align: right;\">\n",
       "      <th></th>\n",
       "      <th>Id</th>\n",
       "      <th>plaintiff_name</th>\n",
       "      <th>plaintiff_address</th>\n",
       "      <th>plainitiff_phone</th>\n",
       "      <th>plaintiff_email</th>\n",
       "    </tr>\n",
       "  </thead>\n",
       "  <tbody>\n",
       "    <tr>\n",
       "      <th>0</th>\n",
       "      <td>5010</td>\n",
       "      <td>Steve Freud</td>\n",
       "      <td>4673 Cardath Ave</td>\n",
       "      <td>9361200443</td>\n",
       "      <td>sfreud@fake.gmail.com</td>\n",
       "    </tr>\n",
       "    <tr>\n",
       "      <th>1</th>\n",
       "      <td>5011</td>\n",
       "      <td>Steve Freud</td>\n",
       "      <td>4673 Cardath Ave</td>\n",
       "      <td>9361200443</td>\n",
       "      <td>sfreud@fake.gmail.com</td>\n",
       "    </tr>\n",
       "    <tr>\n",
       "      <th>2</th>\n",
       "      <td>5012</td>\n",
       "      <td>Jordan Leung</td>\n",
       "      <td>9261 Seside pl, NY</td>\n",
       "      <td>7364591203</td>\n",
       "      <td>charmander6@pokefan.com</td>\n",
       "    </tr>\n",
       "  </tbody>\n",
       "</table>\n",
       "</div>"
      ],
      "text/plain": [
       "     Id plaintiff_name   plaintiff_address plainitiff_phone  \\\n",
       "0  5010    Steve Freud    4673 Cardath Ave       9361200443   \n",
       "1  5011    Steve Freud    4673 Cardath Ave       9361200443   \n",
       "2  5012   Jordan Leung  9261 Seside pl, NY       7364591203   \n",
       "\n",
       "           plaintiff_email  \n",
       "0    sfreud@fake.gmail.com  \n",
       "1    sfreud@fake.gmail.com  \n",
       "2  charmander6@pokefan.com  "
      ]
     },
     "execution_count": 19,
     "metadata": {},
     "output_type": "execute_result"
    }
   ],
   "source": [
    "df_plaintiffs.head(3)"
   ]
  },
  {
   "cell_type": "code",
   "execution_count": 20,
   "metadata": {},
   "outputs": [
    {
     "name": "stderr",
     "output_type": "stream",
     "text": [
      "/anaconda3/lib/python3.6/site-packages/pandas/core/frame.py:3781: SettingWithCopyWarning: \n",
      "A value is trying to be set on a copy of a slice from a DataFrame\n",
      "\n",
      "See the caveats in the documentation: http://pandas.pydata.org/pandas-docs/stable/indexing.html#indexing-view-versus-copy\n",
      "  return super(DataFrame, self).rename(**kwargs)\n"
     ]
    }
   ],
   "source": [
    "df_plaintiffs.rename(index=str, columns={\"plaintiff_name\": \"name\", \"plaintiff_address\": \"address\", \"plainitiff_phone\": \"phone\", \"plaintiff_email\": \"email\"}, inplace=True)"
   ]
  },
  {
   "cell_type": "code",
   "execution_count": 21,
   "metadata": {},
   "outputs": [
    {
     "data": {
      "text/html": [
       "<div>\n",
       "<style scoped>\n",
       "    .dataframe tbody tr th:only-of-type {\n",
       "        vertical-align: middle;\n",
       "    }\n",
       "\n",
       "    .dataframe tbody tr th {\n",
       "        vertical-align: top;\n",
       "    }\n",
       "\n",
       "    .dataframe thead th {\n",
       "        text-align: right;\n",
       "    }\n",
       "</style>\n",
       "<table border=\"1\" class=\"dataframe\">\n",
       "  <thead>\n",
       "    <tr style=\"text-align: right;\">\n",
       "      <th></th>\n",
       "      <th>Id</th>\n",
       "      <th>name</th>\n",
       "      <th>address</th>\n",
       "      <th>phone</th>\n",
       "      <th>email</th>\n",
       "    </tr>\n",
       "  </thead>\n",
       "  <tbody>\n",
       "    <tr>\n",
       "      <th>0</th>\n",
       "      <td>5010</td>\n",
       "      <td>Steve Freud</td>\n",
       "      <td>4673 Cardath Ave</td>\n",
       "      <td>9361200443</td>\n",
       "      <td>sfreud@fake.gmail.com</td>\n",
       "    </tr>\n",
       "    <tr>\n",
       "      <th>1</th>\n",
       "      <td>5011</td>\n",
       "      <td>Steve Freud</td>\n",
       "      <td>4673 Cardath Ave</td>\n",
       "      <td>9361200443</td>\n",
       "      <td>sfreud@fake.gmail.com</td>\n",
       "    </tr>\n",
       "    <tr>\n",
       "      <th>2</th>\n",
       "      <td>5012</td>\n",
       "      <td>Jordan Leung</td>\n",
       "      <td>9261 Seside pl, NY</td>\n",
       "      <td>7364591203</td>\n",
       "      <td>charmander6@pokefan.com</td>\n",
       "    </tr>\n",
       "  </tbody>\n",
       "</table>\n",
       "</div>"
      ],
      "text/plain": [
       "     Id          name             address       phone                    email\n",
       "0  5010   Steve Freud    4673 Cardath Ave  9361200443    sfreud@fake.gmail.com\n",
       "1  5011   Steve Freud    4673 Cardath Ave  9361200443    sfreud@fake.gmail.com\n",
       "2  5012  Jordan Leung  9261 Seside pl, NY  7364591203  charmander6@pokefan.com"
      ]
     },
     "execution_count": 21,
     "metadata": {},
     "output_type": "execute_result"
    }
   ],
   "source": [
    "df_plaintiffs.head(3)"
   ]
  },
  {
   "cell_type": "markdown",
   "metadata": {},
   "source": [
    "### I am assuming that the 'id' column should not be considered when dropping duplicates; every value in the 'id' column is unique, so no rows would be dropped."
   ]
  },
  {
   "cell_type": "code",
   "execution_count": 22,
   "metadata": {},
   "outputs": [],
   "source": [
    "#Drop duplicate rows (again, not including the 'id' column):\n",
    "\n",
    "df_plaintiffs = df_plaintiffs.drop_duplicates(subset=['name', 'address', 'phone',\n",
    "       'email'])"
   ]
  },
  {
   "cell_type": "code",
   "execution_count": 23,
   "metadata": {
    "scrolled": true
   },
   "outputs": [
    {
     "data": {
      "text/html": [
       "<div>\n",
       "<style scoped>\n",
       "    .dataframe tbody tr th:only-of-type {\n",
       "        vertical-align: middle;\n",
       "    }\n",
       "\n",
       "    .dataframe tbody tr th {\n",
       "        vertical-align: top;\n",
       "    }\n",
       "\n",
       "    .dataframe thead th {\n",
       "        text-align: right;\n",
       "    }\n",
       "</style>\n",
       "<table border=\"1\" class=\"dataframe\">\n",
       "  <thead>\n",
       "    <tr style=\"text-align: right;\">\n",
       "      <th></th>\n",
       "      <th>Id</th>\n",
       "      <th>name</th>\n",
       "      <th>address</th>\n",
       "      <th>phone</th>\n",
       "      <th>email</th>\n",
       "    </tr>\n",
       "  </thead>\n",
       "  <tbody>\n",
       "    <tr>\n",
       "      <th>0</th>\n",
       "      <td>5010</td>\n",
       "      <td>Steve Freud</td>\n",
       "      <td>4673 Cardath Ave</td>\n",
       "      <td>9361200443</td>\n",
       "      <td>sfreud@fake.gmail.com</td>\n",
       "    </tr>\n",
       "    <tr>\n",
       "      <th>2</th>\n",
       "      <td>5012</td>\n",
       "      <td>Jordan Leung</td>\n",
       "      <td>9261 Seside pl, NY</td>\n",
       "      <td>7364591203</td>\n",
       "      <td>charmander6@pokefan.com</td>\n",
       "    </tr>\n",
       "    <tr>\n",
       "      <th>3</th>\n",
       "      <td>5013</td>\n",
       "      <td>Bryce Eakin</td>\n",
       "      <td>6947 Palm Beach way, new York, NY 18342</td>\n",
       "      <td>8262592768</td>\n",
       "      <td>beakin@fake.gmail.com</td>\n",
       "    </tr>\n",
       "    <tr>\n",
       "      <th>4</th>\n",
       "      <td>5014</td>\n",
       "      <td>Kyle Paine</td>\n",
       "      <td>NaN</td>\n",
       "      <td>NaN</td>\n",
       "      <td>kpaine@fake.gmail.com</td>\n",
       "    </tr>\n",
       "    <tr>\n",
       "      <th>5</th>\n",
       "      <td>5015</td>\n",
       "      <td>Mikey Bipps</td>\n",
       "      <td>NaN</td>\n",
       "      <td>9372760317</td>\n",
       "      <td>NaN</td>\n",
       "    </tr>\n",
       "    <tr>\n",
       "      <th>6</th>\n",
       "      <td>5016</td>\n",
       "      <td>Tommy Boi</td>\n",
       "      <td>NaN</td>\n",
       "      <td>9036406</td>\n",
       "      <td>NaN</td>\n",
       "    </tr>\n",
       "    <tr>\n",
       "      <th>7</th>\n",
       "      <td>5017</td>\n",
       "      <td>Mimi Swerve</td>\n",
       "      <td>8456 Lexington, Manhattan NY</td>\n",
       "      <td>NaN</td>\n",
       "      <td>mimis@fake.yahoo.com</td>\n",
       "    </tr>\n",
       "  </tbody>\n",
       "</table>\n",
       "</div>"
      ],
      "text/plain": [
       "     Id          name                                  address       phone  \\\n",
       "0  5010   Steve Freud                         4673 Cardath Ave  9361200443   \n",
       "2  5012  Jordan Leung                       9261 Seside pl, NY  7364591203   \n",
       "3  5013   Bryce Eakin  6947 Palm Beach way, new York, NY 18342  8262592768   \n",
       "4  5014    Kyle Paine                                      NaN         NaN   \n",
       "5  5015  Mikey Bipps                                       NaN  9372760317   \n",
       "6  5016     Tommy Boi                                      NaN     9036406   \n",
       "7  5017   Mimi Swerve             8456 Lexington, Manhattan NY         NaN   \n",
       "\n",
       "                     email  \n",
       "0    sfreud@fake.gmail.com  \n",
       "2  charmander6@pokefan.com  \n",
       "3    beakin@fake.gmail.com  \n",
       "4    kpaine@fake.gmail.com  \n",
       "5                      NaN  \n",
       "6                      NaN  \n",
       "7     mimis@fake.yahoo.com  "
      ]
     },
     "execution_count": 23,
     "metadata": {},
     "output_type": "execute_result"
    }
   ],
   "source": [
    "df_plaintiffs"
   ]
  },
  {
   "cell_type": "code",
   "execution_count": 24,
   "metadata": {},
   "outputs": [],
   "source": [
    "df_plaintiffs.to_csv('Plaintiffs.csv', index=False, sep=\",\")"
   ]
  },
  {
   "cell_type": "markdown",
   "metadata": {},
   "source": [
    "---"
   ]
  },
  {
   "cell_type": "markdown",
   "metadata": {},
   "source": [
    "# Case table:"
   ]
  },
  {
   "cell_type": "markdown",
   "metadata": {},
   "source": [
    "---"
   ]
  },
  {
   "cell_type": "code",
   "execution_count": 25,
   "metadata": {},
   "outputs": [
    {
     "data": {
      "text/plain": [
       "Index(['Id', 'plaintiff_name', 'plaintiff_address', 'plainitiff_phone',\n",
       "       'plaintiff_email', 'agreement_date', 'lien_description',\n",
       "       'lien_open_closed', 'lienholder', 'attorney'],\n",
       "      dtype='object')"
      ]
     },
     "execution_count": 25,
     "metadata": {},
     "output_type": "execute_result"
    }
   ],
   "source": [
    "df.columns"
   ]
  },
  {
   "cell_type": "code",
   "execution_count": 26,
   "metadata": {
    "scrolled": true
   },
   "outputs": [
    {
     "name": "stderr",
     "output_type": "stream",
     "text": [
      "/anaconda3/lib/python3.6/site-packages/ipykernel_launcher.py:29: SettingWithCopyWarning: \n",
      "A value is trying to be set on a copy of a slice from a DataFrame\n",
      "\n",
      "See the caveats in the documentation: http://pandas.pydata.org/pandas-docs/stable/indexing.html#indexing-view-versus-copy\n"
     ]
    }
   ],
   "source": [
    "create_random_id(df=df, column='plaintiff_name')"
   ]
  },
  {
   "cell_type": "code",
   "execution_count": 27,
   "metadata": {
    "scrolled": true
   },
   "outputs": [
    {
     "name": "stderr",
     "output_type": "stream",
     "text": [
      "/anaconda3/lib/python3.6/site-packages/ipykernel_launcher.py:29: SettingWithCopyWarning: \n",
      "A value is trying to be set on a copy of a slice from a DataFrame\n",
      "\n",
      "See the caveats in the documentation: http://pandas.pydata.org/pandas-docs/stable/indexing.html#indexing-view-versus-copy\n",
      "/anaconda3/lib/python3.6/site-packages/ipykernel_launcher.py:26: SettingWithCopyWarning: \n",
      "A value is trying to be set on a copy of a slice from a DataFrame\n",
      "\n",
      "See the caveats in the documentation: http://pandas.pydata.org/pandas-docs/stable/indexing.html#indexing-view-versus-copy\n",
      "/anaconda3/lib/python3.6/site-packages/pandas/core/indexing.py:189: SettingWithCopyWarning: \n",
      "A value is trying to be set on a copy of a slice from a DataFrame\n",
      "\n",
      "See the caveats in the documentation: http://pandas.pydata.org/pandas-docs/stable/indexing.html#indexing-view-versus-copy\n",
      "  self._setitem_with_indexer(indexer, value)\n"
     ]
    }
   ],
   "source": [
    "create_random_id(df=df, column='attorney')"
   ]
  },
  {
   "cell_type": "code",
   "execution_count": 28,
   "metadata": {},
   "outputs": [],
   "source": [
    "df_case = df[['Id', 'plaintiff_name_id', 'agreement_date', 'attorney_id']]"
   ]
  },
  {
   "cell_type": "code",
   "execution_count": 29,
   "metadata": {
    "scrolled": false
   },
   "outputs": [
    {
     "data": {
      "text/html": [
       "<div>\n",
       "<style scoped>\n",
       "    .dataframe tbody tr th:only-of-type {\n",
       "        vertical-align: middle;\n",
       "    }\n",
       "\n",
       "    .dataframe tbody tr th {\n",
       "        vertical-align: top;\n",
       "    }\n",
       "\n",
       "    .dataframe thead th {\n",
       "        text-align: right;\n",
       "    }\n",
       "</style>\n",
       "<table border=\"1\" class=\"dataframe\">\n",
       "  <thead>\n",
       "    <tr style=\"text-align: right;\">\n",
       "      <th></th>\n",
       "      <th>Id</th>\n",
       "      <th>plaintiff_name_id</th>\n",
       "      <th>agreement_date</th>\n",
       "      <th>attorney_id</th>\n",
       "    </tr>\n",
       "  </thead>\n",
       "  <tbody>\n",
       "    <tr>\n",
       "      <th>0</th>\n",
       "      <td>5010</td>\n",
       "      <td>1541</td>\n",
       "      <td>2015-04-16 00:00:00</td>\n",
       "      <td>2297.0</td>\n",
       "    </tr>\n",
       "    <tr>\n",
       "      <th>1</th>\n",
       "      <td>5011</td>\n",
       "      <td>1541</td>\n",
       "      <td>2015-04-16 00:00:00</td>\n",
       "      <td>2297.0</td>\n",
       "    </tr>\n",
       "    <tr>\n",
       "      <th>2</th>\n",
       "      <td>5012</td>\n",
       "      <td>2098</td>\n",
       "      <td>2017-09-19 00:00:00</td>\n",
       "      <td>4980.0</td>\n",
       "    </tr>\n",
       "    <tr>\n",
       "      <th>3</th>\n",
       "      <td>5013</td>\n",
       "      <td>8183</td>\n",
       "      <td>2018-02-02 00:00:00</td>\n",
       "      <td>2297.0</td>\n",
       "    </tr>\n",
       "    <tr>\n",
       "      <th>4</th>\n",
       "      <td>5014</td>\n",
       "      <td>8980</td>\n",
       "      <td>2017-06-09 00:00:00</td>\n",
       "      <td>NaN</td>\n",
       "    </tr>\n",
       "    <tr>\n",
       "      <th>5</th>\n",
       "      <td>5015</td>\n",
       "      <td>9265</td>\n",
       "      <td>2018-05-27 00:00:00</td>\n",
       "      <td>2297.0</td>\n",
       "    </tr>\n",
       "    <tr>\n",
       "      <th>6</th>\n",
       "      <td>5016</td>\n",
       "      <td>1341</td>\n",
       "      <td>2019-01-02 00:00:00</td>\n",
       "      <td>9340.0</td>\n",
       "    </tr>\n",
       "    <tr>\n",
       "      <th>7</th>\n",
       "      <td>5017</td>\n",
       "      <td>7655</td>\n",
       "      <td>2017-04-07 00:00:00</td>\n",
       "      <td>1798.0</td>\n",
       "    </tr>\n",
       "  </tbody>\n",
       "</table>\n",
       "</div>"
      ],
      "text/plain": [
       "     Id  plaintiff_name_id       agreement_date  attorney_id\n",
       "0  5010               1541  2015-04-16 00:00:00       2297.0\n",
       "1  5011               1541  2015-04-16 00:00:00       2297.0\n",
       "2  5012               2098  2017-09-19 00:00:00       4980.0\n",
       "3  5013               8183  2018-02-02 00:00:00       2297.0\n",
       "4  5014               8980  2017-06-09 00:00:00          NaN\n",
       "5  5015               9265  2018-05-27 00:00:00       2297.0\n",
       "6  5016               1341  2019-01-02 00:00:00       9340.0\n",
       "7  5017               7655  2017-04-07 00:00:00       1798.0"
      ]
     },
     "execution_count": 29,
     "metadata": {},
     "output_type": "execute_result"
    }
   ],
   "source": [
    "df_case"
   ]
  },
  {
   "cell_type": "code",
   "execution_count": 30,
   "metadata": {
    "scrolled": true
   },
   "outputs": [],
   "source": [
    "df_case.rename(index=str, columns={\"plaintiff_name_id\": \"plaintiff_id\"}, inplace=True)"
   ]
  },
  {
   "cell_type": "code",
   "execution_count": 31,
   "metadata": {},
   "outputs": [
    {
     "data": {
      "text/html": [
       "<div>\n",
       "<style scoped>\n",
       "    .dataframe tbody tr th:only-of-type {\n",
       "        vertical-align: middle;\n",
       "    }\n",
       "\n",
       "    .dataframe tbody tr th {\n",
       "        vertical-align: top;\n",
       "    }\n",
       "\n",
       "    .dataframe thead th {\n",
       "        text-align: right;\n",
       "    }\n",
       "</style>\n",
       "<table border=\"1\" class=\"dataframe\">\n",
       "  <thead>\n",
       "    <tr style=\"text-align: right;\">\n",
       "      <th></th>\n",
       "      <th>Id</th>\n",
       "      <th>plaintiff_id</th>\n",
       "      <th>agreement_date</th>\n",
       "      <th>attorney_id</th>\n",
       "    </tr>\n",
       "  </thead>\n",
       "  <tbody>\n",
       "    <tr>\n",
       "      <th>0</th>\n",
       "      <td>5010</td>\n",
       "      <td>1541</td>\n",
       "      <td>2015-04-16 00:00:00</td>\n",
       "      <td>2297.0</td>\n",
       "    </tr>\n",
       "    <tr>\n",
       "      <th>1</th>\n",
       "      <td>5011</td>\n",
       "      <td>1541</td>\n",
       "      <td>2015-04-16 00:00:00</td>\n",
       "      <td>2297.0</td>\n",
       "    </tr>\n",
       "    <tr>\n",
       "      <th>2</th>\n",
       "      <td>5012</td>\n",
       "      <td>2098</td>\n",
       "      <td>2017-09-19 00:00:00</td>\n",
       "      <td>4980.0</td>\n",
       "    </tr>\n",
       "    <tr>\n",
       "      <th>3</th>\n",
       "      <td>5013</td>\n",
       "      <td>8183</td>\n",
       "      <td>2018-02-02 00:00:00</td>\n",
       "      <td>2297.0</td>\n",
       "    </tr>\n",
       "    <tr>\n",
       "      <th>4</th>\n",
       "      <td>5014</td>\n",
       "      <td>8980</td>\n",
       "      <td>2017-06-09 00:00:00</td>\n",
       "      <td>NaN</td>\n",
       "    </tr>\n",
       "    <tr>\n",
       "      <th>5</th>\n",
       "      <td>5015</td>\n",
       "      <td>9265</td>\n",
       "      <td>2018-05-27 00:00:00</td>\n",
       "      <td>2297.0</td>\n",
       "    </tr>\n",
       "    <tr>\n",
       "      <th>6</th>\n",
       "      <td>5016</td>\n",
       "      <td>1341</td>\n",
       "      <td>2019-01-02 00:00:00</td>\n",
       "      <td>9340.0</td>\n",
       "    </tr>\n",
       "    <tr>\n",
       "      <th>7</th>\n",
       "      <td>5017</td>\n",
       "      <td>7655</td>\n",
       "      <td>2017-04-07 00:00:00</td>\n",
       "      <td>1798.0</td>\n",
       "    </tr>\n",
       "  </tbody>\n",
       "</table>\n",
       "</div>"
      ],
      "text/plain": [
       "     Id  plaintiff_id       agreement_date  attorney_id\n",
       "0  5010          1541  2015-04-16 00:00:00       2297.0\n",
       "1  5011          1541  2015-04-16 00:00:00       2297.0\n",
       "2  5012          2098  2017-09-19 00:00:00       4980.0\n",
       "3  5013          8183  2018-02-02 00:00:00       2297.0\n",
       "4  5014          8980  2017-06-09 00:00:00          NaN\n",
       "5  5015          9265  2018-05-27 00:00:00       2297.0\n",
       "6  5016          1341  2019-01-02 00:00:00       9340.0\n",
       "7  5017          7655  2017-04-07 00:00:00       1798.0"
      ]
     },
     "execution_count": 31,
     "metadata": {},
     "output_type": "execute_result"
    }
   ],
   "source": [
    "df_case"
   ]
  },
  {
   "cell_type": "code",
   "execution_count": 32,
   "metadata": {},
   "outputs": [],
   "source": [
    "df_case.to_csv('Case_table.csv', index=False, sep=\",\")"
   ]
  },
  {
   "cell_type": "markdown",
   "metadata": {},
   "source": [
    "---"
   ]
  },
  {
   "cell_type": "markdown",
   "metadata": {},
   "source": [
    "# attornies table:"
   ]
  },
  {
   "cell_type": "markdown",
   "metadata": {},
   "source": [
    "---"
   ]
  },
  {
   "cell_type": "code",
   "execution_count": 33,
   "metadata": {},
   "outputs": [
    {
     "data": {
      "text/html": [
       "<div>\n",
       "<style scoped>\n",
       "    .dataframe tbody tr th:only-of-type {\n",
       "        vertical-align: middle;\n",
       "    }\n",
       "\n",
       "    .dataframe tbody tr th {\n",
       "        vertical-align: top;\n",
       "    }\n",
       "\n",
       "    .dataframe thead th {\n",
       "        text-align: right;\n",
       "    }\n",
       "</style>\n",
       "<table border=\"1\" class=\"dataframe\">\n",
       "  <thead>\n",
       "    <tr style=\"text-align: right;\">\n",
       "      <th></th>\n",
       "      <th>Id</th>\n",
       "      <th>plaintiff_name</th>\n",
       "      <th>plaintiff_address</th>\n",
       "      <th>plainitiff_phone</th>\n",
       "      <th>plaintiff_email</th>\n",
       "      <th>agreement_date</th>\n",
       "      <th>lien_description</th>\n",
       "      <th>lien_open_closed</th>\n",
       "      <th>lienholder</th>\n",
       "      <th>attorney</th>\n",
       "      <th>plaintiff_name_id</th>\n",
       "      <th>attorney_id</th>\n",
       "    </tr>\n",
       "  </thead>\n",
       "  <tbody>\n",
       "    <tr>\n",
       "      <th>0</th>\n",
       "      <td>5010</td>\n",
       "      <td>Steve Freud</td>\n",
       "      <td>4673 Cardath Ave</td>\n",
       "      <td>9361200443</td>\n",
       "      <td>sfreud@fake.gmail.com</td>\n",
       "      <td>2015-04-16 00:00:00</td>\n",
       "      <td>this is the first lien on the case , valued at...</td>\n",
       "      <td>OPEN</td>\n",
       "      <td>General Assembly</td>\n",
       "      <td>Joseph Breitstein</td>\n",
       "      <td>1541</td>\n",
       "      <td>2297.0</td>\n",
       "    </tr>\n",
       "    <tr>\n",
       "      <th>1</th>\n",
       "      <td>5011</td>\n",
       "      <td>Steve Freud</td>\n",
       "      <td>4673 Cardath Ave</td>\n",
       "      <td>9361200443</td>\n",
       "      <td>sfreud@fake.gmail.com</td>\n",
       "      <td>2015-04-16 00:00:00</td>\n",
       "      <td>second lien on the case</td>\n",
       "      <td>OPEN</td>\n",
       "      <td>General Assembly</td>\n",
       "      <td>Joseph Breitstein</td>\n",
       "      <td>1541</td>\n",
       "      <td>2297.0</td>\n",
       "    </tr>\n",
       "    <tr>\n",
       "      <th>2</th>\n",
       "      <td>5012</td>\n",
       "      <td>Jordan Leung</td>\n",
       "      <td>9261 Seside pl, NY</td>\n",
       "      <td>7364591203</td>\n",
       "      <td>charmander6@pokefan.com</td>\n",
       "      <td>2017-09-19 00:00:00</td>\n",
       "      <td>this interest has settled, waiting for payment</td>\n",
       "      <td>CLOSED</td>\n",
       "      <td>General Assembly</td>\n",
       "      <td>Julian Michaels</td>\n",
       "      <td>2098</td>\n",
       "      <td>4980.0</td>\n",
       "    </tr>\n",
       "  </tbody>\n",
       "</table>\n",
       "</div>"
      ],
      "text/plain": [
       "     Id plaintiff_name   plaintiff_address plainitiff_phone  \\\n",
       "0  5010    Steve Freud    4673 Cardath Ave       9361200443   \n",
       "1  5011    Steve Freud    4673 Cardath Ave       9361200443   \n",
       "2  5012   Jordan Leung  9261 Seside pl, NY       7364591203   \n",
       "\n",
       "           plaintiff_email       agreement_date  \\\n",
       "0    sfreud@fake.gmail.com  2015-04-16 00:00:00   \n",
       "1    sfreud@fake.gmail.com  2015-04-16 00:00:00   \n",
       "2  charmander6@pokefan.com  2017-09-19 00:00:00   \n",
       "\n",
       "                                    lien_description lien_open_closed  \\\n",
       "0  this is the first lien on the case , valued at...             OPEN   \n",
       "1                            second lien on the case             OPEN   \n",
       "2     this interest has settled, waiting for payment           CLOSED   \n",
       "\n",
       "         lienholder           attorney  plaintiff_name_id  attorney_id  \n",
       "0  General Assembly  Joseph Breitstein               1541       2297.0  \n",
       "1  General Assembly  Joseph Breitstein               1541       2297.0  \n",
       "2  General Assembly    Julian Michaels               2098       4980.0  "
      ]
     },
     "execution_count": 33,
     "metadata": {},
     "output_type": "execute_result"
    }
   ],
   "source": [
    "df.head(3)"
   ]
  },
  {
   "cell_type": "code",
   "execution_count": 34,
   "metadata": {},
   "outputs": [],
   "source": [
    "df_attornies = df[['attorney_id', 'attorney','plainitiff_phone', 'plaintiff_email']]"
   ]
  },
  {
   "cell_type": "code",
   "execution_count": 35,
   "metadata": {
    "scrolled": true
   },
   "outputs": [
    {
     "data": {
      "text/html": [
       "<div>\n",
       "<style scoped>\n",
       "    .dataframe tbody tr th:only-of-type {\n",
       "        vertical-align: middle;\n",
       "    }\n",
       "\n",
       "    .dataframe tbody tr th {\n",
       "        vertical-align: top;\n",
       "    }\n",
       "\n",
       "    .dataframe thead th {\n",
       "        text-align: right;\n",
       "    }\n",
       "</style>\n",
       "<table border=\"1\" class=\"dataframe\">\n",
       "  <thead>\n",
       "    <tr style=\"text-align: right;\">\n",
       "      <th></th>\n",
       "      <th>attorney_id</th>\n",
       "      <th>attorney</th>\n",
       "      <th>plainitiff_phone</th>\n",
       "      <th>plaintiff_email</th>\n",
       "    </tr>\n",
       "  </thead>\n",
       "  <tbody>\n",
       "    <tr>\n",
       "      <th>0</th>\n",
       "      <td>2297.0</td>\n",
       "      <td>Joseph Breitstein</td>\n",
       "      <td>9361200443</td>\n",
       "      <td>sfreud@fake.gmail.com</td>\n",
       "    </tr>\n",
       "    <tr>\n",
       "      <th>1</th>\n",
       "      <td>2297.0</td>\n",
       "      <td>Joseph Breitstein</td>\n",
       "      <td>9361200443</td>\n",
       "      <td>sfreud@fake.gmail.com</td>\n",
       "    </tr>\n",
       "    <tr>\n",
       "      <th>2</th>\n",
       "      <td>4980.0</td>\n",
       "      <td>Julian Michaels</td>\n",
       "      <td>7364591203</td>\n",
       "      <td>charmander6@pokefan.com</td>\n",
       "    </tr>\n",
       "    <tr>\n",
       "      <th>3</th>\n",
       "      <td>2297.0</td>\n",
       "      <td>Joseph Breitstein</td>\n",
       "      <td>8262592768</td>\n",
       "      <td>beakin@fake.gmail.com</td>\n",
       "    </tr>\n",
       "    <tr>\n",
       "      <th>4</th>\n",
       "      <td>NaN</td>\n",
       "      <td>NaN</td>\n",
       "      <td>NaN</td>\n",
       "      <td>kpaine@fake.gmail.com</td>\n",
       "    </tr>\n",
       "    <tr>\n",
       "      <th>5</th>\n",
       "      <td>2297.0</td>\n",
       "      <td>Joseph Breitstein</td>\n",
       "      <td>9372760317</td>\n",
       "      <td>NaN</td>\n",
       "    </tr>\n",
       "    <tr>\n",
       "      <th>6</th>\n",
       "      <td>9340.0</td>\n",
       "      <td>Sarah McConnor</td>\n",
       "      <td>9036406</td>\n",
       "      <td>NaN</td>\n",
       "    </tr>\n",
       "    <tr>\n",
       "      <th>7</th>\n",
       "      <td>1798.0</td>\n",
       "      <td>Lisle Von Trapp</td>\n",
       "      <td>NaN</td>\n",
       "      <td>mimis@fake.yahoo.com</td>\n",
       "    </tr>\n",
       "  </tbody>\n",
       "</table>\n",
       "</div>"
      ],
      "text/plain": [
       "   attorney_id           attorney plainitiff_phone          plaintiff_email\n",
       "0       2297.0  Joseph Breitstein       9361200443    sfreud@fake.gmail.com\n",
       "1       2297.0  Joseph Breitstein       9361200443    sfreud@fake.gmail.com\n",
       "2       4980.0    Julian Michaels       7364591203  charmander6@pokefan.com\n",
       "3       2297.0  Joseph Breitstein       8262592768    beakin@fake.gmail.com\n",
       "4          NaN                NaN              NaN    kpaine@fake.gmail.com\n",
       "5       2297.0  Joseph Breitstein       9372760317                      NaN\n",
       "6       9340.0     Sarah McConnor          9036406                      NaN\n",
       "7       1798.0    Lisle Von Trapp              NaN     mimis@fake.yahoo.com"
      ]
     },
     "execution_count": 35,
     "metadata": {},
     "output_type": "execute_result"
    }
   ],
   "source": [
    "df_attornies"
   ]
  },
  {
   "cell_type": "markdown",
   "metadata": {},
   "source": [
    "## For the purposes of the SQL Section, I will create fake phone numbers for each attorney:"
   ]
  },
  {
   "cell_type": "code",
   "execution_count": 36,
   "metadata": {},
   "outputs": [
    {
     "data": {
      "text/plain": [
       "float"
      ]
     },
     "execution_count": 36,
     "metadata": {},
     "output_type": "execute_result"
    }
   ],
   "source": [
    "type(df_attornies['attorney'][4])"
   ]
  },
  {
   "cell_type": "code",
   "execution_count": 37,
   "metadata": {},
   "outputs": [],
   "source": [
    "def create_random_phone(column, df=df):\n",
    "    #create a list of keys to be used in temp. dictionary below:\n",
    "    keys_list = list(dict(df[column].value_counts()).keys())\n",
    "    \n",
    "    #create a list of numbers between 1000 and 9999 to use when making a four digit id number below:\n",
    "    random_nums = list(range(9175551000, 9175559999))\n",
    "    \n",
    "    #use a temp. dictionary to create id's to ensure that each key only has one unique value id number:\n",
    "    temp_dict = {}\n",
    "    \n",
    "    #for loop through each key:\n",
    "    for i in keys_list:\n",
    "        \n",
    "        #assign a number as the id for the given key:\n",
    "        temp_dict[i] = np.random.choice(random_nums)\n",
    "        \n",
    "        #remove the number assigned to the key from the list of numbers to ensure that no duplicates are created:\n",
    "        random_nums.remove(temp_dict[i])\n",
    "    \n",
    "    #create a new column with the id numbers for each value in the given column:\n",
    "    df[str(column + '_phone')] = 0\n",
    "    \n",
    "    for i in range(len(df[column])):\n",
    "        #if statement to deal with NaN values:\n",
    "        if type(df[column][i]) == float:\n",
    "            df[str(column + '_phone')][i] = np.nan\n",
    "        #use the temp dictionary created above to assign the new column's values:\n",
    "        else:\n",
    "            df[str(column + '_phone')][i] = int(temp_dict[df[column][i]])"
   ]
  },
  {
   "cell_type": "code",
   "execution_count": 38,
   "metadata": {},
   "outputs": [
    {
     "data": {
      "text/plain": [
       "numpy.float64"
      ]
     },
     "execution_count": 38,
     "metadata": {},
     "output_type": "execute_result"
    }
   ],
   "source": [
    "type(df_attornies['attorney_id'][4])"
   ]
  },
  {
   "cell_type": "code",
   "execution_count": 39,
   "metadata": {},
   "outputs": [
    {
     "data": {
      "text/html": [
       "<div>\n",
       "<style scoped>\n",
       "    .dataframe tbody tr th:only-of-type {\n",
       "        vertical-align: middle;\n",
       "    }\n",
       "\n",
       "    .dataframe tbody tr th {\n",
       "        vertical-align: top;\n",
       "    }\n",
       "\n",
       "    .dataframe thead th {\n",
       "        text-align: right;\n",
       "    }\n",
       "</style>\n",
       "<table border=\"1\" class=\"dataframe\">\n",
       "  <thead>\n",
       "    <tr style=\"text-align: right;\">\n",
       "      <th></th>\n",
       "      <th>attorney_id</th>\n",
       "      <th>attorney</th>\n",
       "      <th>plainitiff_phone</th>\n",
       "      <th>plaintiff_email</th>\n",
       "    </tr>\n",
       "  </thead>\n",
       "  <tbody>\n",
       "    <tr>\n",
       "      <th>0</th>\n",
       "      <td>2297.0</td>\n",
       "      <td>Joseph Breitstein</td>\n",
       "      <td>9361200443</td>\n",
       "      <td>sfreud@fake.gmail.com</td>\n",
       "    </tr>\n",
       "    <tr>\n",
       "      <th>1</th>\n",
       "      <td>2297.0</td>\n",
       "      <td>Joseph Breitstein</td>\n",
       "      <td>9361200443</td>\n",
       "      <td>sfreud@fake.gmail.com</td>\n",
       "    </tr>\n",
       "    <tr>\n",
       "      <th>2</th>\n",
       "      <td>4980.0</td>\n",
       "      <td>Julian Michaels</td>\n",
       "      <td>7364591203</td>\n",
       "      <td>charmander6@pokefan.com</td>\n",
       "    </tr>\n",
       "    <tr>\n",
       "      <th>3</th>\n",
       "      <td>2297.0</td>\n",
       "      <td>Joseph Breitstein</td>\n",
       "      <td>8262592768</td>\n",
       "      <td>beakin@fake.gmail.com</td>\n",
       "    </tr>\n",
       "    <tr>\n",
       "      <th>4</th>\n",
       "      <td>NaN</td>\n",
       "      <td>NaN</td>\n",
       "      <td>NaN</td>\n",
       "      <td>kpaine@fake.gmail.com</td>\n",
       "    </tr>\n",
       "    <tr>\n",
       "      <th>5</th>\n",
       "      <td>2297.0</td>\n",
       "      <td>Joseph Breitstein</td>\n",
       "      <td>9372760317</td>\n",
       "      <td>NaN</td>\n",
       "    </tr>\n",
       "    <tr>\n",
       "      <th>6</th>\n",
       "      <td>9340.0</td>\n",
       "      <td>Sarah McConnor</td>\n",
       "      <td>9036406</td>\n",
       "      <td>NaN</td>\n",
       "    </tr>\n",
       "    <tr>\n",
       "      <th>7</th>\n",
       "      <td>1798.0</td>\n",
       "      <td>Lisle Von Trapp</td>\n",
       "      <td>NaN</td>\n",
       "      <td>mimis@fake.yahoo.com</td>\n",
       "    </tr>\n",
       "  </tbody>\n",
       "</table>\n",
       "</div>"
      ],
      "text/plain": [
       "   attorney_id           attorney plainitiff_phone          plaintiff_email\n",
       "0       2297.0  Joseph Breitstein       9361200443    sfreud@fake.gmail.com\n",
       "1       2297.0  Joseph Breitstein       9361200443    sfreud@fake.gmail.com\n",
       "2       4980.0    Julian Michaels       7364591203  charmander6@pokefan.com\n",
       "3       2297.0  Joseph Breitstein       8262592768    beakin@fake.gmail.com\n",
       "4          NaN                NaN              NaN    kpaine@fake.gmail.com\n",
       "5       2297.0  Joseph Breitstein       9372760317                      NaN\n",
       "6       9340.0     Sarah McConnor          9036406                      NaN\n",
       "7       1798.0    Lisle Von Trapp              NaN     mimis@fake.yahoo.com"
      ]
     },
     "execution_count": 39,
     "metadata": {},
     "output_type": "execute_result"
    }
   ],
   "source": [
    "df_attornies"
   ]
  },
  {
   "cell_type": "code",
   "execution_count": 40,
   "metadata": {
    "scrolled": true
   },
   "outputs": [
    {
     "name": "stderr",
     "output_type": "stream",
     "text": [
      "/anaconda3/lib/python3.6/site-packages/ipykernel_launcher.py:21: SettingWithCopyWarning: \n",
      "A value is trying to be set on a copy of a slice from a DataFrame.\n",
      "Try using .loc[row_indexer,col_indexer] = value instead\n",
      "\n",
      "See the caveats in the documentation: http://pandas.pydata.org/pandas-docs/stable/indexing.html#indexing-view-versus-copy\n",
      "/anaconda3/lib/python3.6/site-packages/ipykernel_launcher.py:29: SettingWithCopyWarning: \n",
      "A value is trying to be set on a copy of a slice from a DataFrame\n",
      "\n",
      "See the caveats in the documentation: http://pandas.pydata.org/pandas-docs/stable/indexing.html#indexing-view-versus-copy\n",
      "/anaconda3/lib/python3.6/site-packages/ipykernel_launcher.py:1: SettingWithCopyWarning: \n",
      "A value is trying to be set on a copy of a slice from a DataFrame\n",
      "\n",
      "See the caveats in the documentation: http://pandas.pydata.org/pandas-docs/stable/indexing.html#indexing-view-versus-copy\n",
      "  \"\"\"Entry point for launching an IPython kernel.\n",
      "/anaconda3/lib/python3.6/site-packages/ipykernel_launcher.py:26: SettingWithCopyWarning: \n",
      "A value is trying to be set on a copy of a slice from a DataFrame\n",
      "\n",
      "See the caveats in the documentation: http://pandas.pydata.org/pandas-docs/stable/indexing.html#indexing-view-versus-copy\n",
      "/anaconda3/lib/python3.6/site-packages/pandas/core/series.py:915: SettingWithCopyWarning: \n",
      "A value is trying to be set on a copy of a slice from a DataFrame\n",
      "\n",
      "See the caveats in the documentation: http://pandas.pydata.org/pandas-docs/stable/indexing.html#indexing-view-versus-copy\n",
      "  self.loc[key] = value\n"
     ]
    }
   ],
   "source": [
    "create_random_phone(df=df_attornies,column='attorney')"
   ]
  },
  {
   "cell_type": "code",
   "execution_count": 41,
   "metadata": {
    "scrolled": true
   },
   "outputs": [
    {
     "data": {
      "text/html": [
       "<div>\n",
       "<style scoped>\n",
       "    .dataframe tbody tr th:only-of-type {\n",
       "        vertical-align: middle;\n",
       "    }\n",
       "\n",
       "    .dataframe tbody tr th {\n",
       "        vertical-align: top;\n",
       "    }\n",
       "\n",
       "    .dataframe thead th {\n",
       "        text-align: right;\n",
       "    }\n",
       "</style>\n",
       "<table border=\"1\" class=\"dataframe\">\n",
       "  <thead>\n",
       "    <tr style=\"text-align: right;\">\n",
       "      <th></th>\n",
       "      <th>attorney_id</th>\n",
       "      <th>attorney</th>\n",
       "      <th>plainitiff_phone</th>\n",
       "      <th>plaintiff_email</th>\n",
       "      <th>attorney_phone</th>\n",
       "    </tr>\n",
       "  </thead>\n",
       "  <tbody>\n",
       "    <tr>\n",
       "      <th>0</th>\n",
       "      <td>2297.0</td>\n",
       "      <td>Joseph Breitstein</td>\n",
       "      <td>9361200443</td>\n",
       "      <td>sfreud@fake.gmail.com</td>\n",
       "      <td>9.175553e+09</td>\n",
       "    </tr>\n",
       "    <tr>\n",
       "      <th>1</th>\n",
       "      <td>2297.0</td>\n",
       "      <td>Joseph Breitstein</td>\n",
       "      <td>9361200443</td>\n",
       "      <td>sfreud@fake.gmail.com</td>\n",
       "      <td>9.175553e+09</td>\n",
       "    </tr>\n",
       "    <tr>\n",
       "      <th>2</th>\n",
       "      <td>4980.0</td>\n",
       "      <td>Julian Michaels</td>\n",
       "      <td>7364591203</td>\n",
       "      <td>charmander6@pokefan.com</td>\n",
       "      <td>9.175553e+09</td>\n",
       "    </tr>\n",
       "    <tr>\n",
       "      <th>3</th>\n",
       "      <td>2297.0</td>\n",
       "      <td>Joseph Breitstein</td>\n",
       "      <td>8262592768</td>\n",
       "      <td>beakin@fake.gmail.com</td>\n",
       "      <td>9.175553e+09</td>\n",
       "    </tr>\n",
       "    <tr>\n",
       "      <th>4</th>\n",
       "      <td>NaN</td>\n",
       "      <td>NaN</td>\n",
       "      <td>NaN</td>\n",
       "      <td>kpaine@fake.gmail.com</td>\n",
       "      <td>NaN</td>\n",
       "    </tr>\n",
       "    <tr>\n",
       "      <th>5</th>\n",
       "      <td>2297.0</td>\n",
       "      <td>Joseph Breitstein</td>\n",
       "      <td>9372760317</td>\n",
       "      <td>NaN</td>\n",
       "      <td>9.175553e+09</td>\n",
       "    </tr>\n",
       "    <tr>\n",
       "      <th>6</th>\n",
       "      <td>9340.0</td>\n",
       "      <td>Sarah McConnor</td>\n",
       "      <td>9036406</td>\n",
       "      <td>NaN</td>\n",
       "      <td>9.175556e+09</td>\n",
       "    </tr>\n",
       "    <tr>\n",
       "      <th>7</th>\n",
       "      <td>1798.0</td>\n",
       "      <td>Lisle Von Trapp</td>\n",
       "      <td>NaN</td>\n",
       "      <td>mimis@fake.yahoo.com</td>\n",
       "      <td>9.175559e+09</td>\n",
       "    </tr>\n",
       "  </tbody>\n",
       "</table>\n",
       "</div>"
      ],
      "text/plain": [
       "   attorney_id           attorney plainitiff_phone          plaintiff_email  \\\n",
       "0       2297.0  Joseph Breitstein       9361200443    sfreud@fake.gmail.com   \n",
       "1       2297.0  Joseph Breitstein       9361200443    sfreud@fake.gmail.com   \n",
       "2       4980.0    Julian Michaels       7364591203  charmander6@pokefan.com   \n",
       "3       2297.0  Joseph Breitstein       8262592768    beakin@fake.gmail.com   \n",
       "4          NaN                NaN              NaN    kpaine@fake.gmail.com   \n",
       "5       2297.0  Joseph Breitstein       9372760317                      NaN   \n",
       "6       9340.0     Sarah McConnor          9036406                      NaN   \n",
       "7       1798.0    Lisle Von Trapp              NaN     mimis@fake.yahoo.com   \n",
       "\n",
       "   attorney_phone  \n",
       "0    9.175553e+09  \n",
       "1    9.175553e+09  \n",
       "2    9.175553e+09  \n",
       "3    9.175553e+09  \n",
       "4             NaN  \n",
       "5    9.175553e+09  \n",
       "6    9.175556e+09  \n",
       "7    9.175559e+09  "
      ]
     },
     "execution_count": 41,
     "metadata": {},
     "output_type": "execute_result"
    }
   ],
   "source": [
    "df_attornies"
   ]
  },
  {
   "cell_type": "markdown",
   "metadata": {},
   "source": [
    "## For the purposes of the SQL Section, I will create fake emails for each attorney:"
   ]
  },
  {
   "cell_type": "code",
   "execution_count": 42,
   "metadata": {
    "scrolled": false
   },
   "outputs": [
    {
     "name": "stderr",
     "output_type": "stream",
     "text": [
      "/anaconda3/lib/python3.6/site-packages/ipykernel_launcher.py:15: SettingWithCopyWarning: \n",
      "A value is trying to be set on a copy of a slice from a DataFrame.\n",
      "Try using .loc[row_indexer,col_indexer] = value instead\n",
      "\n",
      "See the caveats in the documentation: http://pandas.pydata.org/pandas-docs/stable/indexing.html#indexing-view-versus-copy\n",
      "  from ipykernel import kernelapp as app\n",
      "/anaconda3/lib/python3.6/site-packages/ipykernel_launcher.py:20: SettingWithCopyWarning: \n",
      "A value is trying to be set on a copy of a slice from a DataFrame\n",
      "\n",
      "See the caveats in the documentation: http://pandas.pydata.org/pandas-docs/stable/indexing.html#indexing-view-versus-copy\n",
      "/anaconda3/lib/python3.6/site-packages/IPython/core/interactiveshell.py:3267: SettingWithCopyWarning: \n",
      "A value is trying to be set on a copy of a slice from a DataFrame\n",
      "\n",
      "See the caveats in the documentation: http://pandas.pydata.org/pandas-docs/stable/indexing.html#indexing-view-versus-copy\n",
      "  exec(code_obj, self.user_global_ns, self.user_ns)\n",
      "/anaconda3/lib/python3.6/site-packages/ipykernel_launcher.py:18: SettingWithCopyWarning: \n",
      "A value is trying to be set on a copy of a slice from a DataFrame\n",
      "\n",
      "See the caveats in the documentation: http://pandas.pydata.org/pandas-docs/stable/indexing.html#indexing-view-versus-copy\n"
     ]
    }
   ],
   "source": [
    "lawfirm_handles = ['Partners.com', 'LLC.com', 'LawFirm.com']\n",
    "\n",
    "temp_list = []\n",
    "for i in df_attornies['attorney']:\n",
    "    if i not in temp_list and type(i) != float:\n",
    "        temp_list.append(i)\n",
    "    else:\n",
    "        pass\n",
    "\n",
    "temp_dict = {}\n",
    "for i in temp_list:\n",
    "    if i not in temp_dict.keys():\n",
    "        temp_dict[i] = str(i.split()[0] + i.split()[-1][0] + '@' + i.rsplit()[-1] + np.random.choice(lawfirm_handles))\n",
    "\n",
    "df_attornies['attorney_email'] = 0\n",
    "for i in range(len(df_attornies['attorney_id'])):\n",
    "    if str(df_attornies['attorney_id'][i]) == 'nan':\n",
    "        df_attornies['attorney_email'][i] = np.nan\n",
    "    else:\n",
    "        df_attornies['attorney_email'][i] = temp_dict[df_attornies['attorney'][i]]"
   ]
  },
  {
   "cell_type": "code",
   "execution_count": 43,
   "metadata": {},
   "outputs": [
    {
     "data": {
      "text/html": [
       "<div>\n",
       "<style scoped>\n",
       "    .dataframe tbody tr th:only-of-type {\n",
       "        vertical-align: middle;\n",
       "    }\n",
       "\n",
       "    .dataframe tbody tr th {\n",
       "        vertical-align: top;\n",
       "    }\n",
       "\n",
       "    .dataframe thead th {\n",
       "        text-align: right;\n",
       "    }\n",
       "</style>\n",
       "<table border=\"1\" class=\"dataframe\">\n",
       "  <thead>\n",
       "    <tr style=\"text-align: right;\">\n",
       "      <th></th>\n",
       "      <th>attorney_id</th>\n",
       "      <th>attorney</th>\n",
       "      <th>plainitiff_phone</th>\n",
       "      <th>plaintiff_email</th>\n",
       "      <th>attorney_phone</th>\n",
       "      <th>attorney_email</th>\n",
       "    </tr>\n",
       "  </thead>\n",
       "  <tbody>\n",
       "    <tr>\n",
       "      <th>0</th>\n",
       "      <td>2297.0</td>\n",
       "      <td>Joseph Breitstein</td>\n",
       "      <td>9361200443</td>\n",
       "      <td>sfreud@fake.gmail.com</td>\n",
       "      <td>9.175553e+09</td>\n",
       "      <td>JosephB@BreitsteinPartners.com</td>\n",
       "    </tr>\n",
       "    <tr>\n",
       "      <th>1</th>\n",
       "      <td>2297.0</td>\n",
       "      <td>Joseph Breitstein</td>\n",
       "      <td>9361200443</td>\n",
       "      <td>sfreud@fake.gmail.com</td>\n",
       "      <td>9.175553e+09</td>\n",
       "      <td>JosephB@BreitsteinPartners.com</td>\n",
       "    </tr>\n",
       "    <tr>\n",
       "      <th>2</th>\n",
       "      <td>4980.0</td>\n",
       "      <td>Julian Michaels</td>\n",
       "      <td>7364591203</td>\n",
       "      <td>charmander6@pokefan.com</td>\n",
       "      <td>9.175553e+09</td>\n",
       "      <td>JulianM@MichaelsPartners.com</td>\n",
       "    </tr>\n",
       "    <tr>\n",
       "      <th>3</th>\n",
       "      <td>2297.0</td>\n",
       "      <td>Joseph Breitstein</td>\n",
       "      <td>8262592768</td>\n",
       "      <td>beakin@fake.gmail.com</td>\n",
       "      <td>9.175553e+09</td>\n",
       "      <td>JosephB@BreitsteinPartners.com</td>\n",
       "    </tr>\n",
       "    <tr>\n",
       "      <th>4</th>\n",
       "      <td>NaN</td>\n",
       "      <td>NaN</td>\n",
       "      <td>NaN</td>\n",
       "      <td>kpaine@fake.gmail.com</td>\n",
       "      <td>NaN</td>\n",
       "      <td>NaN</td>\n",
       "    </tr>\n",
       "    <tr>\n",
       "      <th>5</th>\n",
       "      <td>2297.0</td>\n",
       "      <td>Joseph Breitstein</td>\n",
       "      <td>9372760317</td>\n",
       "      <td>NaN</td>\n",
       "      <td>9.175553e+09</td>\n",
       "      <td>JosephB@BreitsteinPartners.com</td>\n",
       "    </tr>\n",
       "    <tr>\n",
       "      <th>6</th>\n",
       "      <td>9340.0</td>\n",
       "      <td>Sarah McConnor</td>\n",
       "      <td>9036406</td>\n",
       "      <td>NaN</td>\n",
       "      <td>9.175556e+09</td>\n",
       "      <td>SarahM@McConnorPartners.com</td>\n",
       "    </tr>\n",
       "    <tr>\n",
       "      <th>7</th>\n",
       "      <td>1798.0</td>\n",
       "      <td>Lisle Von Trapp</td>\n",
       "      <td>NaN</td>\n",
       "      <td>mimis@fake.yahoo.com</td>\n",
       "      <td>9.175559e+09</td>\n",
       "      <td>LisleT@TrappLawFirm.com</td>\n",
       "    </tr>\n",
       "  </tbody>\n",
       "</table>\n",
       "</div>"
      ],
      "text/plain": [
       "   attorney_id           attorney plainitiff_phone          plaintiff_email  \\\n",
       "0       2297.0  Joseph Breitstein       9361200443    sfreud@fake.gmail.com   \n",
       "1       2297.0  Joseph Breitstein       9361200443    sfreud@fake.gmail.com   \n",
       "2       4980.0    Julian Michaels       7364591203  charmander6@pokefan.com   \n",
       "3       2297.0  Joseph Breitstein       8262592768    beakin@fake.gmail.com   \n",
       "4          NaN                NaN              NaN    kpaine@fake.gmail.com   \n",
       "5       2297.0  Joseph Breitstein       9372760317                      NaN   \n",
       "6       9340.0     Sarah McConnor          9036406                      NaN   \n",
       "7       1798.0    Lisle Von Trapp              NaN     mimis@fake.yahoo.com   \n",
       "\n",
       "   attorney_phone                  attorney_email  \n",
       "0    9.175553e+09  JosephB@BreitsteinPartners.com  \n",
       "1    9.175553e+09  JosephB@BreitsteinPartners.com  \n",
       "2    9.175553e+09    JulianM@MichaelsPartners.com  \n",
       "3    9.175553e+09  JosephB@BreitsteinPartners.com  \n",
       "4             NaN                             NaN  \n",
       "5    9.175553e+09  JosephB@BreitsteinPartners.com  \n",
       "6    9.175556e+09     SarahM@McConnorPartners.com  \n",
       "7    9.175559e+09         LisleT@TrappLawFirm.com  "
      ]
     },
     "execution_count": 43,
     "metadata": {},
     "output_type": "execute_result"
    }
   ],
   "source": [
    "df_attornies"
   ]
  },
  {
   "cell_type": "code",
   "execution_count": 44,
   "metadata": {
    "scrolled": false
   },
   "outputs": [],
   "source": [
    "df_attornies.rename(index=str, columns={\"attorney_id\": \"id\", \"attorney\": \"name\"}, inplace=True)"
   ]
  },
  {
   "cell_type": "code",
   "execution_count": 45,
   "metadata": {
    "scrolled": true
   },
   "outputs": [
    {
     "data": {
      "text/html": [
       "<div>\n",
       "<style scoped>\n",
       "    .dataframe tbody tr th:only-of-type {\n",
       "        vertical-align: middle;\n",
       "    }\n",
       "\n",
       "    .dataframe tbody tr th {\n",
       "        vertical-align: top;\n",
       "    }\n",
       "\n",
       "    .dataframe thead th {\n",
       "        text-align: right;\n",
       "    }\n",
       "</style>\n",
       "<table border=\"1\" class=\"dataframe\">\n",
       "  <thead>\n",
       "    <tr style=\"text-align: right;\">\n",
       "      <th></th>\n",
       "      <th>id</th>\n",
       "      <th>name</th>\n",
       "      <th>plainitiff_phone</th>\n",
       "      <th>plaintiff_email</th>\n",
       "      <th>attorney_phone</th>\n",
       "      <th>attorney_email</th>\n",
       "    </tr>\n",
       "  </thead>\n",
       "  <tbody>\n",
       "    <tr>\n",
       "      <th>0</th>\n",
       "      <td>2297.0</td>\n",
       "      <td>Joseph Breitstein</td>\n",
       "      <td>9361200443</td>\n",
       "      <td>sfreud@fake.gmail.com</td>\n",
       "      <td>9.175553e+09</td>\n",
       "      <td>JosephB@BreitsteinPartners.com</td>\n",
       "    </tr>\n",
       "    <tr>\n",
       "      <th>1</th>\n",
       "      <td>2297.0</td>\n",
       "      <td>Joseph Breitstein</td>\n",
       "      <td>9361200443</td>\n",
       "      <td>sfreud@fake.gmail.com</td>\n",
       "      <td>9.175553e+09</td>\n",
       "      <td>JosephB@BreitsteinPartners.com</td>\n",
       "    </tr>\n",
       "    <tr>\n",
       "      <th>2</th>\n",
       "      <td>4980.0</td>\n",
       "      <td>Julian Michaels</td>\n",
       "      <td>7364591203</td>\n",
       "      <td>charmander6@pokefan.com</td>\n",
       "      <td>9.175553e+09</td>\n",
       "      <td>JulianM@MichaelsPartners.com</td>\n",
       "    </tr>\n",
       "    <tr>\n",
       "      <th>3</th>\n",
       "      <td>2297.0</td>\n",
       "      <td>Joseph Breitstein</td>\n",
       "      <td>8262592768</td>\n",
       "      <td>beakin@fake.gmail.com</td>\n",
       "      <td>9.175553e+09</td>\n",
       "      <td>JosephB@BreitsteinPartners.com</td>\n",
       "    </tr>\n",
       "    <tr>\n",
       "      <th>4</th>\n",
       "      <td>NaN</td>\n",
       "      <td>NaN</td>\n",
       "      <td>NaN</td>\n",
       "      <td>kpaine@fake.gmail.com</td>\n",
       "      <td>NaN</td>\n",
       "      <td>NaN</td>\n",
       "    </tr>\n",
       "    <tr>\n",
       "      <th>5</th>\n",
       "      <td>2297.0</td>\n",
       "      <td>Joseph Breitstein</td>\n",
       "      <td>9372760317</td>\n",
       "      <td>NaN</td>\n",
       "      <td>9.175553e+09</td>\n",
       "      <td>JosephB@BreitsteinPartners.com</td>\n",
       "    </tr>\n",
       "    <tr>\n",
       "      <th>6</th>\n",
       "      <td>9340.0</td>\n",
       "      <td>Sarah McConnor</td>\n",
       "      <td>9036406</td>\n",
       "      <td>NaN</td>\n",
       "      <td>9.175556e+09</td>\n",
       "      <td>SarahM@McConnorPartners.com</td>\n",
       "    </tr>\n",
       "    <tr>\n",
       "      <th>7</th>\n",
       "      <td>1798.0</td>\n",
       "      <td>Lisle Von Trapp</td>\n",
       "      <td>NaN</td>\n",
       "      <td>mimis@fake.yahoo.com</td>\n",
       "      <td>9.175559e+09</td>\n",
       "      <td>LisleT@TrappLawFirm.com</td>\n",
       "    </tr>\n",
       "  </tbody>\n",
       "</table>\n",
       "</div>"
      ],
      "text/plain": [
       "       id               name plainitiff_phone          plaintiff_email  \\\n",
       "0  2297.0  Joseph Breitstein       9361200443    sfreud@fake.gmail.com   \n",
       "1  2297.0  Joseph Breitstein       9361200443    sfreud@fake.gmail.com   \n",
       "2  4980.0    Julian Michaels       7364591203  charmander6@pokefan.com   \n",
       "3  2297.0  Joseph Breitstein       8262592768    beakin@fake.gmail.com   \n",
       "4     NaN                NaN              NaN    kpaine@fake.gmail.com   \n",
       "5  2297.0  Joseph Breitstein       9372760317                      NaN   \n",
       "6  9340.0     Sarah McConnor          9036406                      NaN   \n",
       "7  1798.0    Lisle Von Trapp              NaN     mimis@fake.yahoo.com   \n",
       "\n",
       "   attorney_phone                  attorney_email  \n",
       "0    9.175553e+09  JosephB@BreitsteinPartners.com  \n",
       "1    9.175553e+09  JosephB@BreitsteinPartners.com  \n",
       "2    9.175553e+09    JulianM@MichaelsPartners.com  \n",
       "3    9.175553e+09  JosephB@BreitsteinPartners.com  \n",
       "4             NaN                             NaN  \n",
       "5    9.175553e+09  JosephB@BreitsteinPartners.com  \n",
       "6    9.175556e+09     SarahM@McConnorPartners.com  \n",
       "7    9.175559e+09         LisleT@TrappLawFirm.com  "
      ]
     },
     "execution_count": 45,
     "metadata": {},
     "output_type": "execute_result"
    }
   ],
   "source": [
    "df_attornies"
   ]
  },
  {
   "cell_type": "code",
   "execution_count": 46,
   "metadata": {},
   "outputs": [
    {
     "name": "stderr",
     "output_type": "stream",
     "text": [
      "/anaconda3/lib/python3.6/site-packages/ipykernel_launcher.py:1: SettingWithCopyWarning: \n",
      "A value is trying to be set on a copy of a slice from a DataFrame\n",
      "\n",
      "See the caveats in the documentation: http://pandas.pydata.org/pandas-docs/stable/indexing.html#indexing-view-versus-copy\n",
      "  \"\"\"Entry point for launching an IPython kernel.\n"
     ]
    }
   ],
   "source": [
    "df_attornies.drop_duplicates(inplace=True)"
   ]
  },
  {
   "cell_type": "code",
   "execution_count": 47,
   "metadata": {},
   "outputs": [],
   "source": [
    "df_attornies.to_csv('attornies.csv', index=False, sep=\",\")"
   ]
  },
  {
   "cell_type": "markdown",
   "metadata": {},
   "source": [
    "---"
   ]
  },
  {
   "cell_type": "markdown",
   "metadata": {},
   "source": [
    "# lien table:"
   ]
  },
  {
   "cell_type": "markdown",
   "metadata": {},
   "source": [
    "---"
   ]
  },
  {
   "cell_type": "code",
   "execution_count": 48,
   "metadata": {
    "scrolled": false
   },
   "outputs": [
    {
     "data": {
      "text/html": [
       "<div>\n",
       "<style scoped>\n",
       "    .dataframe tbody tr th:only-of-type {\n",
       "        vertical-align: middle;\n",
       "    }\n",
       "\n",
       "    .dataframe tbody tr th {\n",
       "        vertical-align: top;\n",
       "    }\n",
       "\n",
       "    .dataframe thead th {\n",
       "        text-align: right;\n",
       "    }\n",
       "</style>\n",
       "<table border=\"1\" class=\"dataframe\">\n",
       "  <thead>\n",
       "    <tr style=\"text-align: right;\">\n",
       "      <th></th>\n",
       "      <th>Id</th>\n",
       "      <th>plaintiff_name</th>\n",
       "      <th>plaintiff_address</th>\n",
       "      <th>plainitiff_phone</th>\n",
       "      <th>plaintiff_email</th>\n",
       "      <th>agreement_date</th>\n",
       "      <th>lien_description</th>\n",
       "      <th>lien_open_closed</th>\n",
       "      <th>lienholder</th>\n",
       "      <th>attorney</th>\n",
       "      <th>plaintiff_name_id</th>\n",
       "      <th>attorney_id</th>\n",
       "    </tr>\n",
       "  </thead>\n",
       "  <tbody>\n",
       "    <tr>\n",
       "      <th>0</th>\n",
       "      <td>5010</td>\n",
       "      <td>Steve Freud</td>\n",
       "      <td>4673 Cardath Ave</td>\n",
       "      <td>9361200443</td>\n",
       "      <td>sfreud@fake.gmail.com</td>\n",
       "      <td>2015-04-16 00:00:00</td>\n",
       "      <td>this is the first lien on the case , valued at...</td>\n",
       "      <td>OPEN</td>\n",
       "      <td>General Assembly</td>\n",
       "      <td>Joseph Breitstein</td>\n",
       "      <td>1541</td>\n",
       "      <td>2297.0</td>\n",
       "    </tr>\n",
       "    <tr>\n",
       "      <th>1</th>\n",
       "      <td>5011</td>\n",
       "      <td>Steve Freud</td>\n",
       "      <td>4673 Cardath Ave</td>\n",
       "      <td>9361200443</td>\n",
       "      <td>sfreud@fake.gmail.com</td>\n",
       "      <td>2015-04-16 00:00:00</td>\n",
       "      <td>second lien on the case</td>\n",
       "      <td>OPEN</td>\n",
       "      <td>General Assembly</td>\n",
       "      <td>Joseph Breitstein</td>\n",
       "      <td>1541</td>\n",
       "      <td>2297.0</td>\n",
       "    </tr>\n",
       "    <tr>\n",
       "      <th>2</th>\n",
       "      <td>5012</td>\n",
       "      <td>Jordan Leung</td>\n",
       "      <td>9261 Seside pl, NY</td>\n",
       "      <td>7364591203</td>\n",
       "      <td>charmander6@pokefan.com</td>\n",
       "      <td>2017-09-19 00:00:00</td>\n",
       "      <td>this interest has settled, waiting for payment</td>\n",
       "      <td>CLOSED</td>\n",
       "      <td>General Assembly</td>\n",
       "      <td>Julian Michaels</td>\n",
       "      <td>2098</td>\n",
       "      <td>4980.0</td>\n",
       "    </tr>\n",
       "  </tbody>\n",
       "</table>\n",
       "</div>"
      ],
      "text/plain": [
       "     Id plaintiff_name   plaintiff_address plainitiff_phone  \\\n",
       "0  5010    Steve Freud    4673 Cardath Ave       9361200443   \n",
       "1  5011    Steve Freud    4673 Cardath Ave       9361200443   \n",
       "2  5012   Jordan Leung  9261 Seside pl, NY       7364591203   \n",
       "\n",
       "           plaintiff_email       agreement_date  \\\n",
       "0    sfreud@fake.gmail.com  2015-04-16 00:00:00   \n",
       "1    sfreud@fake.gmail.com  2015-04-16 00:00:00   \n",
       "2  charmander6@pokefan.com  2017-09-19 00:00:00   \n",
       "\n",
       "                                    lien_description lien_open_closed  \\\n",
       "0  this is the first lien on the case , valued at...             OPEN   \n",
       "1                            second lien on the case             OPEN   \n",
       "2     this interest has settled, waiting for payment           CLOSED   \n",
       "\n",
       "         lienholder           attorney  plaintiff_name_id  attorney_id  \n",
       "0  General Assembly  Joseph Breitstein               1541       2297.0  \n",
       "1  General Assembly  Joseph Breitstein               1541       2297.0  \n",
       "2  General Assembly    Julian Michaels               2098       4980.0  "
      ]
     },
     "execution_count": 48,
     "metadata": {},
     "output_type": "execute_result"
    }
   ],
   "source": [
    "df.head(3)"
   ]
  },
  {
   "cell_type": "code",
   "execution_count": 49,
   "metadata": {
    "scrolled": false
   },
   "outputs": [
    {
     "name": "stderr",
     "output_type": "stream",
     "text": [
      "/anaconda3/lib/python3.6/site-packages/ipykernel_launcher.py:29: SettingWithCopyWarning: \n",
      "A value is trying to be set on a copy of a slice from a DataFrame\n",
      "\n",
      "See the caveats in the documentation: http://pandas.pydata.org/pandas-docs/stable/indexing.html#indexing-view-versus-copy\n"
     ]
    }
   ],
   "source": [
    "create_random_id(df=df, column='lienholder')"
   ]
  },
  {
   "cell_type": "code",
   "execution_count": 50,
   "metadata": {},
   "outputs": [
    {
     "data": {
      "text/plain": [
       "8"
      ]
     },
     "execution_count": 50,
     "metadata": {},
     "output_type": "execute_result"
    }
   ],
   "source": [
    "len(df['Id'].value_counts())"
   ]
  },
  {
   "cell_type": "code",
   "execution_count": 51,
   "metadata": {
    "scrolled": true
   },
   "outputs": [
    {
     "name": "stderr",
     "output_type": "stream",
     "text": [
      "/anaconda3/lib/python3.6/site-packages/ipykernel_launcher.py:4: SettingWithCopyWarning: \n",
      "A value is trying to be set on a copy of a slice from a DataFrame\n",
      "\n",
      "See the caveats in the documentation: http://pandas.pydata.org/pandas-docs/stable/indexing.html#indexing-view-versus-copy\n",
      "  after removing the cwd from sys.path.\n"
     ]
    }
   ],
   "source": [
    "df['case_id'] = 0\n",
    "\n",
    "for i in range(len(df.Id)):\n",
    "    df['case_id'][i] = int(str(df['Id'][i]) + str(df['plaintiff_name_id'][i]))"
   ]
  },
  {
   "cell_type": "code",
   "execution_count": 52,
   "metadata": {},
   "outputs": [],
   "source": [
    "df_lien = df[['Id','case_id', 'lien_description', 'lien_open_closed', 'lienholder_id']]"
   ]
  },
  {
   "cell_type": "code",
   "execution_count": 53,
   "metadata": {
    "scrolled": false
   },
   "outputs": [
    {
     "data": {
      "text/html": [
       "<div>\n",
       "<style scoped>\n",
       "    .dataframe tbody tr th:only-of-type {\n",
       "        vertical-align: middle;\n",
       "    }\n",
       "\n",
       "    .dataframe tbody tr th {\n",
       "        vertical-align: top;\n",
       "    }\n",
       "\n",
       "    .dataframe thead th {\n",
       "        text-align: right;\n",
       "    }\n",
       "</style>\n",
       "<table border=\"1\" class=\"dataframe\">\n",
       "  <thead>\n",
       "    <tr style=\"text-align: right;\">\n",
       "      <th></th>\n",
       "      <th>Id</th>\n",
       "      <th>case_id</th>\n",
       "      <th>lien_description</th>\n",
       "      <th>lien_open_closed</th>\n",
       "      <th>lienholder_id</th>\n",
       "    </tr>\n",
       "  </thead>\n",
       "  <tbody>\n",
       "    <tr>\n",
       "      <th>0</th>\n",
       "      <td>5010</td>\n",
       "      <td>50101541</td>\n",
       "      <td>this is the first lien on the case , valued at...</td>\n",
       "      <td>OPEN</td>\n",
       "      <td>6954</td>\n",
       "    </tr>\n",
       "    <tr>\n",
       "      <th>1</th>\n",
       "      <td>5011</td>\n",
       "      <td>50111541</td>\n",
       "      <td>second lien on the case</td>\n",
       "      <td>OPEN</td>\n",
       "      <td>6954</td>\n",
       "    </tr>\n",
       "    <tr>\n",
       "      <th>2</th>\n",
       "      <td>5012</td>\n",
       "      <td>50122098</td>\n",
       "      <td>this interest has settled, waiting for payment</td>\n",
       "      <td>CLOSED</td>\n",
       "      <td>6954</td>\n",
       "    </tr>\n",
       "    <tr>\n",
       "      <th>3</th>\n",
       "      <td>5013</td>\n",
       "      <td>50138183</td>\n",
       "      <td>700</td>\n",
       "      <td>OPEN</td>\n",
       "      <td>6954</td>\n",
       "    </tr>\n",
       "    <tr>\n",
       "      <th>4</th>\n",
       "      <td>5014</td>\n",
       "      <td>50148980</td>\n",
       "      <td>value is 100,000 pay off is expected to be tak...</td>\n",
       "      <td>OPEN</td>\n",
       "      <td>6954</td>\n",
       "    </tr>\n",
       "    <tr>\n",
       "      <th>5</th>\n",
       "      <td>5015</td>\n",
       "      <td>50159265</td>\n",
       "      <td>bought at 30% of value, value is 300</td>\n",
       "      <td>OPEN</td>\n",
       "      <td>6954</td>\n",
       "    </tr>\n",
       "    <tr>\n",
       "      <th>6</th>\n",
       "      <td>5016</td>\n",
       "      <td>50161341</td>\n",
       "      <td>values is 400</td>\n",
       "      <td>CLOSED</td>\n",
       "      <td>6954</td>\n",
       "    </tr>\n",
       "    <tr>\n",
       "      <th>7</th>\n",
       "      <td>5017</td>\n",
       "      <td>50177655</td>\n",
       "      <td>plaintiff is requesting additional liens</td>\n",
       "      <td>OPEN</td>\n",
       "      <td>6954</td>\n",
       "    </tr>\n",
       "  </tbody>\n",
       "</table>\n",
       "</div>"
      ],
      "text/plain": [
       "     Id   case_id                                   lien_description  \\\n",
       "0  5010  50101541  this is the first lien on the case , valued at...   \n",
       "1  5011  50111541                            second lien on the case   \n",
       "2  5012  50122098     this interest has settled, waiting for payment   \n",
       "3  5013  50138183                                                700   \n",
       "4  5014  50148980  value is 100,000 pay off is expected to be tak...   \n",
       "5  5015  50159265               bought at 30% of value, value is 300   \n",
       "6  5016  50161341                                      values is 400   \n",
       "7  5017  50177655           plaintiff is requesting additional liens   \n",
       "\n",
       "  lien_open_closed  lienholder_id  \n",
       "0             OPEN           6954  \n",
       "1             OPEN           6954  \n",
       "2           CLOSED           6954  \n",
       "3             OPEN           6954  \n",
       "4             OPEN           6954  \n",
       "5             OPEN           6954  \n",
       "6           CLOSED           6954  \n",
       "7             OPEN           6954  "
      ]
     },
     "execution_count": 53,
     "metadata": {},
     "output_type": "execute_result"
    }
   ],
   "source": [
    "df_lien"
   ]
  },
  {
   "cell_type": "code",
   "execution_count": 54,
   "metadata": {
    "scrolled": true
   },
   "outputs": [],
   "source": [
    "df_lien.rename(index=str, columns={\"Id\": \"id\", \"lien_description\": \"description\", \"lien_open_closed\": \"open\"}, inplace=True)"
   ]
  },
  {
   "cell_type": "code",
   "execution_count": 55,
   "metadata": {
    "scrolled": true
   },
   "outputs": [
    {
     "data": {
      "text/html": [
       "<div>\n",
       "<style scoped>\n",
       "    .dataframe tbody tr th:only-of-type {\n",
       "        vertical-align: middle;\n",
       "    }\n",
       "\n",
       "    .dataframe tbody tr th {\n",
       "        vertical-align: top;\n",
       "    }\n",
       "\n",
       "    .dataframe thead th {\n",
       "        text-align: right;\n",
       "    }\n",
       "</style>\n",
       "<table border=\"1\" class=\"dataframe\">\n",
       "  <thead>\n",
       "    <tr style=\"text-align: right;\">\n",
       "      <th></th>\n",
       "      <th>id</th>\n",
       "      <th>case_id</th>\n",
       "      <th>description</th>\n",
       "      <th>open</th>\n",
       "      <th>lienholder_id</th>\n",
       "    </tr>\n",
       "  </thead>\n",
       "  <tbody>\n",
       "    <tr>\n",
       "      <th>0</th>\n",
       "      <td>5010</td>\n",
       "      <td>50101541</td>\n",
       "      <td>this is the first lien on the case , valued at...</td>\n",
       "      <td>OPEN</td>\n",
       "      <td>6954</td>\n",
       "    </tr>\n",
       "    <tr>\n",
       "      <th>1</th>\n",
       "      <td>5011</td>\n",
       "      <td>50111541</td>\n",
       "      <td>second lien on the case</td>\n",
       "      <td>OPEN</td>\n",
       "      <td>6954</td>\n",
       "    </tr>\n",
       "    <tr>\n",
       "      <th>2</th>\n",
       "      <td>5012</td>\n",
       "      <td>50122098</td>\n",
       "      <td>this interest has settled, waiting for payment</td>\n",
       "      <td>CLOSED</td>\n",
       "      <td>6954</td>\n",
       "    </tr>\n",
       "    <tr>\n",
       "      <th>3</th>\n",
       "      <td>5013</td>\n",
       "      <td>50138183</td>\n",
       "      <td>700</td>\n",
       "      <td>OPEN</td>\n",
       "      <td>6954</td>\n",
       "    </tr>\n",
       "    <tr>\n",
       "      <th>4</th>\n",
       "      <td>5014</td>\n",
       "      <td>50148980</td>\n",
       "      <td>value is 100,000 pay off is expected to be tak...</td>\n",
       "      <td>OPEN</td>\n",
       "      <td>6954</td>\n",
       "    </tr>\n",
       "    <tr>\n",
       "      <th>5</th>\n",
       "      <td>5015</td>\n",
       "      <td>50159265</td>\n",
       "      <td>bought at 30% of value, value is 300</td>\n",
       "      <td>OPEN</td>\n",
       "      <td>6954</td>\n",
       "    </tr>\n",
       "    <tr>\n",
       "      <th>6</th>\n",
       "      <td>5016</td>\n",
       "      <td>50161341</td>\n",
       "      <td>values is 400</td>\n",
       "      <td>CLOSED</td>\n",
       "      <td>6954</td>\n",
       "    </tr>\n",
       "    <tr>\n",
       "      <th>7</th>\n",
       "      <td>5017</td>\n",
       "      <td>50177655</td>\n",
       "      <td>plaintiff is requesting additional liens</td>\n",
       "      <td>OPEN</td>\n",
       "      <td>6954</td>\n",
       "    </tr>\n",
       "  </tbody>\n",
       "</table>\n",
       "</div>"
      ],
      "text/plain": [
       "     id   case_id                                        description    open  \\\n",
       "0  5010  50101541  this is the first lien on the case , valued at...    OPEN   \n",
       "1  5011  50111541                            second lien on the case    OPEN   \n",
       "2  5012  50122098     this interest has settled, waiting for payment  CLOSED   \n",
       "3  5013  50138183                                                700    OPEN   \n",
       "4  5014  50148980  value is 100,000 pay off is expected to be tak...    OPEN   \n",
       "5  5015  50159265               bought at 30% of value, value is 300    OPEN   \n",
       "6  5016  50161341                                      values is 400  CLOSED   \n",
       "7  5017  50177655           plaintiff is requesting additional liens    OPEN   \n",
       "\n",
       "   lienholder_id  \n",
       "0           6954  \n",
       "1           6954  \n",
       "2           6954  \n",
       "3           6954  \n",
       "4           6954  \n",
       "5           6954  \n",
       "6           6954  \n",
       "7           6954  "
      ]
     },
     "execution_count": 55,
     "metadata": {},
     "output_type": "execute_result"
    }
   ],
   "source": [
    "df_lien"
   ]
  },
  {
   "cell_type": "code",
   "execution_count": 56,
   "metadata": {},
   "outputs": [
    {
     "name": "stderr",
     "output_type": "stream",
     "text": [
      "/anaconda3/lib/python3.6/site-packages/ipykernel_launcher.py:3: SettingWithCopyWarning: \n",
      "A value is trying to be set on a copy of a slice from a DataFrame\n",
      "\n",
      "See the caveats in the documentation: http://pandas.pydata.org/pandas-docs/stable/indexing.html#indexing-view-versus-copy\n",
      "  This is separate from the ipykernel package so we can avoid doing imports until\n",
      "/anaconda3/lib/python3.6/site-packages/ipykernel_launcher.py:5: SettingWithCopyWarning: \n",
      "A value is trying to be set on a copy of a slice from a DataFrame\n",
      "\n",
      "See the caveats in the documentation: http://pandas.pydata.org/pandas-docs/stable/indexing.html#indexing-view-versus-copy\n",
      "  \"\"\"\n"
     ]
    }
   ],
   "source": [
    "for i in range(len(df_lien['open'])):\n",
    "    if df_lien['open'][i] == 'OPEN':\n",
    "        df_lien['open'][i] = True\n",
    "    else:\n",
    "        df_lien['open'][i] = False"
   ]
  },
  {
   "cell_type": "code",
   "execution_count": 57,
   "metadata": {
    "scrolled": true
   },
   "outputs": [
    {
     "data": {
      "text/html": [
       "<div>\n",
       "<style scoped>\n",
       "    .dataframe tbody tr th:only-of-type {\n",
       "        vertical-align: middle;\n",
       "    }\n",
       "\n",
       "    .dataframe tbody tr th {\n",
       "        vertical-align: top;\n",
       "    }\n",
       "\n",
       "    .dataframe thead th {\n",
       "        text-align: right;\n",
       "    }\n",
       "</style>\n",
       "<table border=\"1\" class=\"dataframe\">\n",
       "  <thead>\n",
       "    <tr style=\"text-align: right;\">\n",
       "      <th></th>\n",
       "      <th>id</th>\n",
       "      <th>case_id</th>\n",
       "      <th>description</th>\n",
       "      <th>open</th>\n",
       "      <th>lienholder_id</th>\n",
       "    </tr>\n",
       "  </thead>\n",
       "  <tbody>\n",
       "    <tr>\n",
       "      <th>0</th>\n",
       "      <td>5010</td>\n",
       "      <td>50101541</td>\n",
       "      <td>this is the first lien on the case , valued at...</td>\n",
       "      <td>True</td>\n",
       "      <td>6954</td>\n",
       "    </tr>\n",
       "    <tr>\n",
       "      <th>1</th>\n",
       "      <td>5011</td>\n",
       "      <td>50111541</td>\n",
       "      <td>second lien on the case</td>\n",
       "      <td>True</td>\n",
       "      <td>6954</td>\n",
       "    </tr>\n",
       "    <tr>\n",
       "      <th>2</th>\n",
       "      <td>5012</td>\n",
       "      <td>50122098</td>\n",
       "      <td>this interest has settled, waiting for payment</td>\n",
       "      <td>False</td>\n",
       "      <td>6954</td>\n",
       "    </tr>\n",
       "    <tr>\n",
       "      <th>3</th>\n",
       "      <td>5013</td>\n",
       "      <td>50138183</td>\n",
       "      <td>700</td>\n",
       "      <td>True</td>\n",
       "      <td>6954</td>\n",
       "    </tr>\n",
       "    <tr>\n",
       "      <th>4</th>\n",
       "      <td>5014</td>\n",
       "      <td>50148980</td>\n",
       "      <td>value is 100,000 pay off is expected to be tak...</td>\n",
       "      <td>True</td>\n",
       "      <td>6954</td>\n",
       "    </tr>\n",
       "    <tr>\n",
       "      <th>5</th>\n",
       "      <td>5015</td>\n",
       "      <td>50159265</td>\n",
       "      <td>bought at 30% of value, value is 300</td>\n",
       "      <td>True</td>\n",
       "      <td>6954</td>\n",
       "    </tr>\n",
       "    <tr>\n",
       "      <th>6</th>\n",
       "      <td>5016</td>\n",
       "      <td>50161341</td>\n",
       "      <td>values is 400</td>\n",
       "      <td>False</td>\n",
       "      <td>6954</td>\n",
       "    </tr>\n",
       "    <tr>\n",
       "      <th>7</th>\n",
       "      <td>5017</td>\n",
       "      <td>50177655</td>\n",
       "      <td>plaintiff is requesting additional liens</td>\n",
       "      <td>True</td>\n",
       "      <td>6954</td>\n",
       "    </tr>\n",
       "  </tbody>\n",
       "</table>\n",
       "</div>"
      ],
      "text/plain": [
       "     id   case_id                                        description   open  \\\n",
       "0  5010  50101541  this is the first lien on the case , valued at...   True   \n",
       "1  5011  50111541                            second lien on the case   True   \n",
       "2  5012  50122098     this interest has settled, waiting for payment  False   \n",
       "3  5013  50138183                                                700   True   \n",
       "4  5014  50148980  value is 100,000 pay off is expected to be tak...   True   \n",
       "5  5015  50159265               bought at 30% of value, value is 300   True   \n",
       "6  5016  50161341                                      values is 400  False   \n",
       "7  5017  50177655           plaintiff is requesting additional liens   True   \n",
       "\n",
       "   lienholder_id  \n",
       "0           6954  \n",
       "1           6954  \n",
       "2           6954  \n",
       "3           6954  \n",
       "4           6954  \n",
       "5           6954  \n",
       "6           6954  \n",
       "7           6954  "
      ]
     },
     "execution_count": 57,
     "metadata": {},
     "output_type": "execute_result"
    }
   ],
   "source": [
    "df_lien"
   ]
  },
  {
   "cell_type": "code",
   "execution_count": 58,
   "metadata": {},
   "outputs": [],
   "source": [
    "df_lien.to_csv('lien.csv', index=False, sep=\",\")"
   ]
  },
  {
   "cell_type": "markdown",
   "metadata": {},
   "source": [
    "---"
   ]
  },
  {
   "cell_type": "markdown",
   "metadata": {},
   "source": [
    "# lienholder table:"
   ]
  },
  {
   "cell_type": "markdown",
   "metadata": {},
   "source": [
    "---"
   ]
  },
  {
   "cell_type": "code",
   "execution_count": 59,
   "metadata": {
    "scrolled": true
   },
   "outputs": [
    {
     "data": {
      "text/html": [
       "<div>\n",
       "<style scoped>\n",
       "    .dataframe tbody tr th:only-of-type {\n",
       "        vertical-align: middle;\n",
       "    }\n",
       "\n",
       "    .dataframe tbody tr th {\n",
       "        vertical-align: top;\n",
       "    }\n",
       "\n",
       "    .dataframe thead th {\n",
       "        text-align: right;\n",
       "    }\n",
       "</style>\n",
       "<table border=\"1\" class=\"dataframe\">\n",
       "  <thead>\n",
       "    <tr style=\"text-align: right;\">\n",
       "      <th></th>\n",
       "      <th>Id</th>\n",
       "      <th>plaintiff_name</th>\n",
       "      <th>plaintiff_address</th>\n",
       "      <th>plainitiff_phone</th>\n",
       "      <th>plaintiff_email</th>\n",
       "      <th>agreement_date</th>\n",
       "      <th>lien_description</th>\n",
       "      <th>lien_open_closed</th>\n",
       "      <th>lienholder</th>\n",
       "      <th>attorney</th>\n",
       "      <th>plaintiff_name_id</th>\n",
       "      <th>attorney_id</th>\n",
       "      <th>lienholder_id</th>\n",
       "      <th>case_id</th>\n",
       "    </tr>\n",
       "  </thead>\n",
       "  <tbody>\n",
       "    <tr>\n",
       "      <th>0</th>\n",
       "      <td>5010</td>\n",
       "      <td>Steve Freud</td>\n",
       "      <td>4673 Cardath Ave</td>\n",
       "      <td>9361200443</td>\n",
       "      <td>sfreud@fake.gmail.com</td>\n",
       "      <td>2015-04-16 00:00:00</td>\n",
       "      <td>this is the first lien on the case , valued at...</td>\n",
       "      <td>OPEN</td>\n",
       "      <td>General Assembly</td>\n",
       "      <td>Joseph Breitstein</td>\n",
       "      <td>1541</td>\n",
       "      <td>2297.0</td>\n",
       "      <td>6954</td>\n",
       "      <td>50101541</td>\n",
       "    </tr>\n",
       "    <tr>\n",
       "      <th>1</th>\n",
       "      <td>5011</td>\n",
       "      <td>Steve Freud</td>\n",
       "      <td>4673 Cardath Ave</td>\n",
       "      <td>9361200443</td>\n",
       "      <td>sfreud@fake.gmail.com</td>\n",
       "      <td>2015-04-16 00:00:00</td>\n",
       "      <td>second lien on the case</td>\n",
       "      <td>OPEN</td>\n",
       "      <td>General Assembly</td>\n",
       "      <td>Joseph Breitstein</td>\n",
       "      <td>1541</td>\n",
       "      <td>2297.0</td>\n",
       "      <td>6954</td>\n",
       "      <td>50111541</td>\n",
       "    </tr>\n",
       "    <tr>\n",
       "      <th>2</th>\n",
       "      <td>5012</td>\n",
       "      <td>Jordan Leung</td>\n",
       "      <td>9261 Seside pl, NY</td>\n",
       "      <td>7364591203</td>\n",
       "      <td>charmander6@pokefan.com</td>\n",
       "      <td>2017-09-19 00:00:00</td>\n",
       "      <td>this interest has settled, waiting for payment</td>\n",
       "      <td>CLOSED</td>\n",
       "      <td>General Assembly</td>\n",
       "      <td>Julian Michaels</td>\n",
       "      <td>2098</td>\n",
       "      <td>4980.0</td>\n",
       "      <td>6954</td>\n",
       "      <td>50122098</td>\n",
       "    </tr>\n",
       "  </tbody>\n",
       "</table>\n",
       "</div>"
      ],
      "text/plain": [
       "     Id plaintiff_name   plaintiff_address plainitiff_phone  \\\n",
       "0  5010    Steve Freud    4673 Cardath Ave       9361200443   \n",
       "1  5011    Steve Freud    4673 Cardath Ave       9361200443   \n",
       "2  5012   Jordan Leung  9261 Seside pl, NY       7364591203   \n",
       "\n",
       "           plaintiff_email       agreement_date  \\\n",
       "0    sfreud@fake.gmail.com  2015-04-16 00:00:00   \n",
       "1    sfreud@fake.gmail.com  2015-04-16 00:00:00   \n",
       "2  charmander6@pokefan.com  2017-09-19 00:00:00   \n",
       "\n",
       "                                    lien_description lien_open_closed  \\\n",
       "0  this is the first lien on the case , valued at...             OPEN   \n",
       "1                            second lien on the case             OPEN   \n",
       "2     this interest has settled, waiting for payment           CLOSED   \n",
       "\n",
       "         lienholder           attorney  plaintiff_name_id  attorney_id  \\\n",
       "0  General Assembly  Joseph Breitstein               1541       2297.0   \n",
       "1  General Assembly  Joseph Breitstein               1541       2297.0   \n",
       "2  General Assembly    Julian Michaels               2098       4980.0   \n",
       "\n",
       "   lienholder_id   case_id  \n",
       "0           6954  50101541  \n",
       "1           6954  50111541  \n",
       "2           6954  50122098  "
      ]
     },
     "execution_count": 59,
     "metadata": {},
     "output_type": "execute_result"
    }
   ],
   "source": [
    "df.head(3)"
   ]
  },
  {
   "cell_type": "code",
   "execution_count": 60,
   "metadata": {},
   "outputs": [
    {
     "name": "stderr",
     "output_type": "stream",
     "text": [
      "/anaconda3/lib/python3.6/site-packages/ipykernel_launcher.py:29: SettingWithCopyWarning: \n",
      "A value is trying to be set on a copy of a slice from a DataFrame\n",
      "\n",
      "See the caveats in the documentation: http://pandas.pydata.org/pandas-docs/stable/indexing.html#indexing-view-versus-copy\n"
     ]
    }
   ],
   "source": [
    "create_random_id(df=df, column='Id')"
   ]
  },
  {
   "cell_type": "code",
   "execution_count": 61,
   "metadata": {},
   "outputs": [
    {
     "data": {
      "text/html": [
       "<div>\n",
       "<style scoped>\n",
       "    .dataframe tbody tr th:only-of-type {\n",
       "        vertical-align: middle;\n",
       "    }\n",
       "\n",
       "    .dataframe tbody tr th {\n",
       "        vertical-align: top;\n",
       "    }\n",
       "\n",
       "    .dataframe thead th {\n",
       "        text-align: right;\n",
       "    }\n",
       "</style>\n",
       "<table border=\"1\" class=\"dataframe\">\n",
       "  <thead>\n",
       "    <tr style=\"text-align: right;\">\n",
       "      <th></th>\n",
       "      <th>Id</th>\n",
       "      <th>plaintiff_name</th>\n",
       "      <th>plaintiff_address</th>\n",
       "      <th>plainitiff_phone</th>\n",
       "      <th>plaintiff_email</th>\n",
       "      <th>agreement_date</th>\n",
       "      <th>lien_description</th>\n",
       "      <th>lien_open_closed</th>\n",
       "      <th>lienholder</th>\n",
       "      <th>attorney</th>\n",
       "      <th>plaintiff_name_id</th>\n",
       "      <th>attorney_id</th>\n",
       "      <th>lienholder_id</th>\n",
       "      <th>case_id</th>\n",
       "      <th>Id_id</th>\n",
       "    </tr>\n",
       "  </thead>\n",
       "  <tbody>\n",
       "    <tr>\n",
       "      <th>0</th>\n",
       "      <td>5010</td>\n",
       "      <td>Steve Freud</td>\n",
       "      <td>4673 Cardath Ave</td>\n",
       "      <td>9361200443</td>\n",
       "      <td>sfreud@fake.gmail.com</td>\n",
       "      <td>2015-04-16 00:00:00</td>\n",
       "      <td>this is the first lien on the case , valued at...</td>\n",
       "      <td>OPEN</td>\n",
       "      <td>General Assembly</td>\n",
       "      <td>Joseph Breitstein</td>\n",
       "      <td>1541</td>\n",
       "      <td>2297.0</td>\n",
       "      <td>6954</td>\n",
       "      <td>50101541</td>\n",
       "      <td>5280</td>\n",
       "    </tr>\n",
       "    <tr>\n",
       "      <th>1</th>\n",
       "      <td>5011</td>\n",
       "      <td>Steve Freud</td>\n",
       "      <td>4673 Cardath Ave</td>\n",
       "      <td>9361200443</td>\n",
       "      <td>sfreud@fake.gmail.com</td>\n",
       "      <td>2015-04-16 00:00:00</td>\n",
       "      <td>second lien on the case</td>\n",
       "      <td>OPEN</td>\n",
       "      <td>General Assembly</td>\n",
       "      <td>Joseph Breitstein</td>\n",
       "      <td>1541</td>\n",
       "      <td>2297.0</td>\n",
       "      <td>6954</td>\n",
       "      <td>50111541</td>\n",
       "      <td>4570</td>\n",
       "    </tr>\n",
       "    <tr>\n",
       "      <th>2</th>\n",
       "      <td>5012</td>\n",
       "      <td>Jordan Leung</td>\n",
       "      <td>9261 Seside pl, NY</td>\n",
       "      <td>7364591203</td>\n",
       "      <td>charmander6@pokefan.com</td>\n",
       "      <td>2017-09-19 00:00:00</td>\n",
       "      <td>this interest has settled, waiting for payment</td>\n",
       "      <td>CLOSED</td>\n",
       "      <td>General Assembly</td>\n",
       "      <td>Julian Michaels</td>\n",
       "      <td>2098</td>\n",
       "      <td>4980.0</td>\n",
       "      <td>6954</td>\n",
       "      <td>50122098</td>\n",
       "      <td>4536</td>\n",
       "    </tr>\n",
       "    <tr>\n",
       "      <th>3</th>\n",
       "      <td>5013</td>\n",
       "      <td>Bryce Eakin</td>\n",
       "      <td>6947 Palm Beach way, new York, NY 18342</td>\n",
       "      <td>8262592768</td>\n",
       "      <td>beakin@fake.gmail.com</td>\n",
       "      <td>2018-02-02 00:00:00</td>\n",
       "      <td>700</td>\n",
       "      <td>OPEN</td>\n",
       "      <td>General Assembly</td>\n",
       "      <td>Joseph Breitstein</td>\n",
       "      <td>8183</td>\n",
       "      <td>2297.0</td>\n",
       "      <td>6954</td>\n",
       "      <td>50138183</td>\n",
       "      <td>6851</td>\n",
       "    </tr>\n",
       "    <tr>\n",
       "      <th>4</th>\n",
       "      <td>5014</td>\n",
       "      <td>Kyle Paine</td>\n",
       "      <td>NaN</td>\n",
       "      <td>NaN</td>\n",
       "      <td>kpaine@fake.gmail.com</td>\n",
       "      <td>2017-06-09 00:00:00</td>\n",
       "      <td>value is 100,000 pay off is expected to be tak...</td>\n",
       "      <td>OPEN</td>\n",
       "      <td>General Assembly</td>\n",
       "      <td>NaN</td>\n",
       "      <td>8980</td>\n",
       "      <td>NaN</td>\n",
       "      <td>6954</td>\n",
       "      <td>50148980</td>\n",
       "      <td>8681</td>\n",
       "    </tr>\n",
       "  </tbody>\n",
       "</table>\n",
       "</div>"
      ],
      "text/plain": [
       "     Id plaintiff_name                        plaintiff_address  \\\n",
       "0  5010    Steve Freud                         4673 Cardath Ave   \n",
       "1  5011    Steve Freud                         4673 Cardath Ave   \n",
       "2  5012   Jordan Leung                       9261 Seside pl, NY   \n",
       "3  5013    Bryce Eakin  6947 Palm Beach way, new York, NY 18342   \n",
       "4  5014     Kyle Paine                                      NaN   \n",
       "\n",
       "  plainitiff_phone          plaintiff_email       agreement_date  \\\n",
       "0       9361200443    sfreud@fake.gmail.com  2015-04-16 00:00:00   \n",
       "1       9361200443    sfreud@fake.gmail.com  2015-04-16 00:00:00   \n",
       "2       7364591203  charmander6@pokefan.com  2017-09-19 00:00:00   \n",
       "3       8262592768    beakin@fake.gmail.com  2018-02-02 00:00:00   \n",
       "4              NaN    kpaine@fake.gmail.com  2017-06-09 00:00:00   \n",
       "\n",
       "                                    lien_description lien_open_closed  \\\n",
       "0  this is the first lien on the case , valued at...             OPEN   \n",
       "1                            second lien on the case             OPEN   \n",
       "2     this interest has settled, waiting for payment           CLOSED   \n",
       "3                                                700             OPEN   \n",
       "4  value is 100,000 pay off is expected to be tak...             OPEN   \n",
       "\n",
       "         lienholder           attorney  plaintiff_name_id  attorney_id  \\\n",
       "0  General Assembly  Joseph Breitstein               1541       2297.0   \n",
       "1  General Assembly  Joseph Breitstein               1541       2297.0   \n",
       "2  General Assembly    Julian Michaels               2098       4980.0   \n",
       "3  General Assembly  Joseph Breitstein               8183       2297.0   \n",
       "4  General Assembly                NaN               8980          NaN   \n",
       "\n",
       "   lienholder_id   case_id  Id_id  \n",
       "0           6954  50101541   5280  \n",
       "1           6954  50111541   4570  \n",
       "2           6954  50122098   4536  \n",
       "3           6954  50138183   6851  \n",
       "4           6954  50148980   8681  "
      ]
     },
     "execution_count": 61,
     "metadata": {},
     "output_type": "execute_result"
    }
   ],
   "source": [
    "df.head()"
   ]
  },
  {
   "cell_type": "code",
   "execution_count": 62,
   "metadata": {},
   "outputs": [],
   "source": [
    "df_lienholder = df[['lienholder_id', 'lienholder']]"
   ]
  },
  {
   "cell_type": "code",
   "execution_count": 63,
   "metadata": {
    "scrolled": true
   },
   "outputs": [
    {
     "data": {
      "text/html": [
       "<div>\n",
       "<style scoped>\n",
       "    .dataframe tbody tr th:only-of-type {\n",
       "        vertical-align: middle;\n",
       "    }\n",
       "\n",
       "    .dataframe tbody tr th {\n",
       "        vertical-align: top;\n",
       "    }\n",
       "\n",
       "    .dataframe thead th {\n",
       "        text-align: right;\n",
       "    }\n",
       "</style>\n",
       "<table border=\"1\" class=\"dataframe\">\n",
       "  <thead>\n",
       "    <tr style=\"text-align: right;\">\n",
       "      <th></th>\n",
       "      <th>lienholder_id</th>\n",
       "      <th>lienholder</th>\n",
       "    </tr>\n",
       "  </thead>\n",
       "  <tbody>\n",
       "    <tr>\n",
       "      <th>0</th>\n",
       "      <td>6954</td>\n",
       "      <td>General Assembly</td>\n",
       "    </tr>\n",
       "    <tr>\n",
       "      <th>1</th>\n",
       "      <td>6954</td>\n",
       "      <td>General Assembly</td>\n",
       "    </tr>\n",
       "    <tr>\n",
       "      <th>2</th>\n",
       "      <td>6954</td>\n",
       "      <td>General Assembly</td>\n",
       "    </tr>\n",
       "    <tr>\n",
       "      <th>3</th>\n",
       "      <td>6954</td>\n",
       "      <td>General Assembly</td>\n",
       "    </tr>\n",
       "    <tr>\n",
       "      <th>4</th>\n",
       "      <td>6954</td>\n",
       "      <td>General Assembly</td>\n",
       "    </tr>\n",
       "    <tr>\n",
       "      <th>5</th>\n",
       "      <td>6954</td>\n",
       "      <td>General Assembly</td>\n",
       "    </tr>\n",
       "    <tr>\n",
       "      <th>6</th>\n",
       "      <td>6954</td>\n",
       "      <td>General Assembly</td>\n",
       "    </tr>\n",
       "    <tr>\n",
       "      <th>7</th>\n",
       "      <td>6954</td>\n",
       "      <td>General Assembly</td>\n",
       "    </tr>\n",
       "  </tbody>\n",
       "</table>\n",
       "</div>"
      ],
      "text/plain": [
       "   lienholder_id        lienholder\n",
       "0           6954  General Assembly\n",
       "1           6954  General Assembly\n",
       "2           6954  General Assembly\n",
       "3           6954  General Assembly\n",
       "4           6954  General Assembly\n",
       "5           6954  General Assembly\n",
       "6           6954  General Assembly\n",
       "7           6954  General Assembly"
      ]
     },
     "execution_count": 63,
     "metadata": {},
     "output_type": "execute_result"
    }
   ],
   "source": [
    "df_lienholder"
   ]
  },
  {
   "cell_type": "code",
   "execution_count": 64,
   "metadata": {
    "scrolled": true
   },
   "outputs": [],
   "source": [
    "df_lienholder.rename(index=str, columns={\"lienholder_id\": \"id\", \"lienholder\": \"name\"}, inplace=True)"
   ]
  },
  {
   "cell_type": "code",
   "execution_count": 65,
   "metadata": {
    "scrolled": true
   },
   "outputs": [
    {
     "name": "stderr",
     "output_type": "stream",
     "text": [
      "/anaconda3/lib/python3.6/site-packages/ipykernel_launcher.py:1: SettingWithCopyWarning: \n",
      "A value is trying to be set on a copy of a slice from a DataFrame\n",
      "\n",
      "See the caveats in the documentation: http://pandas.pydata.org/pandas-docs/stable/indexing.html#indexing-view-versus-copy\n",
      "  \"\"\"Entry point for launching an IPython kernel.\n"
     ]
    }
   ],
   "source": [
    "df_lienholder.drop_duplicates(inplace=True)"
   ]
  },
  {
   "cell_type": "code",
   "execution_count": 66,
   "metadata": {
    "scrolled": true
   },
   "outputs": [
    {
     "data": {
      "text/html": [
       "<div>\n",
       "<style scoped>\n",
       "    .dataframe tbody tr th:only-of-type {\n",
       "        vertical-align: middle;\n",
       "    }\n",
       "\n",
       "    .dataframe tbody tr th {\n",
       "        vertical-align: top;\n",
       "    }\n",
       "\n",
       "    .dataframe thead th {\n",
       "        text-align: right;\n",
       "    }\n",
       "</style>\n",
       "<table border=\"1\" class=\"dataframe\">\n",
       "  <thead>\n",
       "    <tr style=\"text-align: right;\">\n",
       "      <th></th>\n",
       "      <th>id</th>\n",
       "      <th>name</th>\n",
       "    </tr>\n",
       "  </thead>\n",
       "  <tbody>\n",
       "    <tr>\n",
       "      <th>0</th>\n",
       "      <td>6954</td>\n",
       "      <td>General Assembly</td>\n",
       "    </tr>\n",
       "  </tbody>\n",
       "</table>\n",
       "</div>"
      ],
      "text/plain": [
       "     id              name\n",
       "0  6954  General Assembly"
      ]
     },
     "execution_count": 66,
     "metadata": {},
     "output_type": "execute_result"
    }
   ],
   "source": [
    "df_lienholder"
   ]
  },
  {
   "cell_type": "code",
   "execution_count": 67,
   "metadata": {},
   "outputs": [],
   "source": [
    "df_lienholder.to_csv('lienholder.csv', index=False, sep=\",\")"
   ]
  }
 ],
 "metadata": {
  "kernelspec": {
   "display_name": "Python 3",
   "language": "python",
   "name": "python3"
  },
  "language_info": {
   "codemirror_mode": {
    "name": "ipython",
    "version": 3
   },
   "file_extension": ".py",
   "mimetype": "text/x-python",
   "name": "python",
   "nbconvert_exporter": "python",
   "pygments_lexer": "ipython3",
   "version": "3.6.5"
  }
 },
 "nbformat": 4,
 "nbformat_minor": 2
}
