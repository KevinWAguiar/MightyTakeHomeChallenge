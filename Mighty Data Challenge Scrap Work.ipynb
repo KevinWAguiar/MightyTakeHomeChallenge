{
 "cells": [
  {
   "cell_type": "code",
   "execution_count": 387,
   "metadata": {},
   "outputs": [],
   "source": [
    "import pandas as pd\n",
    "import numpy as np\n",
    "import regex as re\n",
    "import datetime\n"
   ]
  },
  {
   "cell_type": "code",
   "execution_count": 388,
   "metadata": {},
   "outputs": [],
   "source": [
    "df = pd.read_csv('./GA_DSI/mighty_data_challenge.csv')"
   ]
  },
  {
   "cell_type": "code",
   "execution_count": 389,
   "metadata": {},
   "outputs": [
    {
     "data": {
      "text/html": [
       "<div>\n",
       "<style scoped>\n",
       "    .dataframe tbody tr th:only-of-type {\n",
       "        vertical-align: middle;\n",
       "    }\n",
       "\n",
       "    .dataframe tbody tr th {\n",
       "        vertical-align: top;\n",
       "    }\n",
       "\n",
       "    .dataframe thead th {\n",
       "        text-align: right;\n",
       "    }\n",
       "</style>\n",
       "<table border=\"1\" class=\"dataframe\">\n",
       "  <thead>\n",
       "    <tr style=\"text-align: right;\">\n",
       "      <th></th>\n",
       "      <th>plaintiff_name</th>\n",
       "      <th>plaintiff_address</th>\n",
       "      <th>plainitiff_phone</th>\n",
       "      <th>plaintiff_email</th>\n",
       "      <th>agreement_date</th>\n",
       "      <th>lien_description</th>\n",
       "      <th>lien_open_closed</th>\n",
       "      <th>lienholder</th>\n",
       "      <th>attorney</th>\n",
       "    </tr>\n",
       "  </thead>\n",
       "  <tbody>\n",
       "    <tr>\n",
       "      <th>0</th>\n",
       "      <td>Steve Freud</td>\n",
       "      <td>4673 Cardath Ave</td>\n",
       "      <td>(936) 120-0443</td>\n",
       "      <td>sfreud@fake.gmail.com</td>\n",
       "      <td>4/16/2015</td>\n",
       "      <td>this is the first lien on the case , valued at...</td>\n",
       "      <td>OPEN</td>\n",
       "      <td>General Assembly</td>\n",
       "      <td>Joseph Breitstein</td>\n",
       "    </tr>\n",
       "    <tr>\n",
       "      <th>1</th>\n",
       "      <td>Steve Freud</td>\n",
       "      <td>4673 Cardath Ave</td>\n",
       "      <td>(936) 120-0443</td>\n",
       "      <td>sfreud@fake.gmail.com</td>\n",
       "      <td>4/16/2015</td>\n",
       "      <td>second lien on the case</td>\n",
       "      <td>OPEN</td>\n",
       "      <td>General Assembly</td>\n",
       "      <td>Joseph Breitstein</td>\n",
       "    </tr>\n",
       "    <tr>\n",
       "      <th>2</th>\n",
       "      <td>Jordan Leung</td>\n",
       "      <td>9261 Seside pl, NY</td>\n",
       "      <td>(736) 459-1203</td>\n",
       "      <td>charmander6@pokefan.com</td>\n",
       "      <td>9/19/2017</td>\n",
       "      <td>this interest has settled, waiting for payment</td>\n",
       "      <td>CLOSED</td>\n",
       "      <td>General Assembly</td>\n",
       "      <td>Julian Michaels</td>\n",
       "    </tr>\n",
       "    <tr>\n",
       "      <th>3</th>\n",
       "      <td>Bryce Eakin</td>\n",
       "      <td>6947 Palm Beach way, new York, NY 18342</td>\n",
       "      <td>(826) 259-2768</td>\n",
       "      <td>beakin@fake.gmail.com</td>\n",
       "      <td>2/2/2018</td>\n",
       "      <td>700</td>\n",
       "      <td>OPEN</td>\n",
       "      <td>General Assembly</td>\n",
       "      <td>Joseph Breitstein</td>\n",
       "    </tr>\n",
       "    <tr>\n",
       "      <th>4</th>\n",
       "      <td>Kyle Paine</td>\n",
       "      <td>NaN</td>\n",
       "      <td>NaN</td>\n",
       "      <td>kpaine@fake.gmail.com</td>\n",
       "      <td>6/9/2017</td>\n",
       "      <td>value is 100,000 pay off is expected to be tak...</td>\n",
       "      <td>OPEN</td>\n",
       "      <td>General Assembly</td>\n",
       "      <td>NaN</td>\n",
       "    </tr>\n",
       "  </tbody>\n",
       "</table>\n",
       "</div>"
      ],
      "text/plain": [
       "  plaintiff_name                        plaintiff_address plainitiff_phone  \\\n",
       "0    Steve Freud                         4673 Cardath Ave   (936) 120-0443   \n",
       "1    Steve Freud                         4673 Cardath Ave   (936) 120-0443   \n",
       "2   Jordan Leung                       9261 Seside pl, NY   (736) 459-1203   \n",
       "3    Bryce Eakin  6947 Palm Beach way, new York, NY 18342   (826) 259-2768   \n",
       "4     Kyle Paine                                      NaN              NaN   \n",
       "\n",
       "           plaintiff_email agreement_date  \\\n",
       "0    sfreud@fake.gmail.com      4/16/2015   \n",
       "1    sfreud@fake.gmail.com      4/16/2015   \n",
       "2  charmander6@pokefan.com      9/19/2017   \n",
       "3    beakin@fake.gmail.com       2/2/2018   \n",
       "4    kpaine@fake.gmail.com       6/9/2017   \n",
       "\n",
       "                                    lien_description lien_open_closed  \\\n",
       "0  this is the first lien on the case , valued at...             OPEN   \n",
       "1                            second lien on the case             OPEN   \n",
       "2     this interest has settled, waiting for payment           CLOSED   \n",
       "3                                                700             OPEN   \n",
       "4  value is 100,000 pay off is expected to be tak...             OPEN   \n",
       "\n",
       "         lienholder           attorney  \n",
       "0  General Assembly  Joseph Breitstein  \n",
       "1  General Assembly  Joseph Breitstein  \n",
       "2  General Assembly    Julian Michaels  \n",
       "3  General Assembly  Joseph Breitstein  \n",
       "4  General Assembly                NaN  "
      ]
     },
     "execution_count": 389,
     "metadata": {},
     "output_type": "execute_result"
    }
   ],
   "source": [
    "df.head()"
   ]
  },
  {
   "cell_type": "code",
   "execution_count": 390,
   "metadata": {},
   "outputs": [
    {
     "data": {
      "text/plain": [
       "(8, 9)"
      ]
     },
     "execution_count": 390,
     "metadata": {},
     "output_type": "execute_result"
    }
   ],
   "source": [
    "df.shape"
   ]
  },
  {
   "cell_type": "code",
   "execution_count": 391,
   "metadata": {},
   "outputs": [
    {
     "data": {
      "text/plain": [
       "plaintiff_name       0\n",
       "plaintiff_address    3\n",
       "plainitiff_phone     2\n",
       "plaintiff_email      2\n",
       "agreement_date       0\n",
       "lien_description     0\n",
       "lien_open_closed     0\n",
       "lienholder           0\n",
       "attorney             1\n",
       "dtype: int64"
      ]
     },
     "execution_count": 391,
     "metadata": {},
     "output_type": "execute_result"
    }
   ],
   "source": [
    "df.isnull().sum()"
   ]
  },
  {
   "cell_type": "code",
   "execution_count": 392,
   "metadata": {},
   "outputs": [
    {
     "data": {
      "text/plain": [
       "plaintiff_name       object\n",
       "plaintiff_address    object\n",
       "plainitiff_phone     object\n",
       "plaintiff_email      object\n",
       "agreement_date       object\n",
       "lien_description     object\n",
       "lien_open_closed     object\n",
       "lienholder           object\n",
       "attorney             object\n",
       "dtype: object"
      ]
     },
     "execution_count": 392,
     "metadata": {},
     "output_type": "execute_result"
    }
   ],
   "source": [
    "df.dtypes"
   ]
  },
  {
   "cell_type": "code",
   "execution_count": 393,
   "metadata": {
    "scrolled": true
   },
   "outputs": [
    {
     "name": "stderr",
     "output_type": "stream",
     "text": [
      "/anaconda3/lib/python3.6/site-packages/ipykernel_launcher.py:5: SettingWithCopyWarning: \n",
      "A value is trying to be set on a copy of a slice from a DataFrame\n",
      "\n",
      "See the caveats in the documentation: http://pandas.pydata.org/pandas-docs/stable/indexing.html#indexing-view-versus-copy\n",
      "  \"\"\"\n"
     ]
    }
   ],
   "source": [
    "df['id'] = 0\n",
    "\n",
    "counter = 5010\n",
    "for i in range(df.shape[0]):\n",
    "    df['id'][i] = counter\n",
    "    counter += 1"
   ]
  },
  {
   "cell_type": "code",
   "execution_count": 394,
   "metadata": {
    "scrolled": true
   },
   "outputs": [
    {
     "data": {
      "text/html": [
       "<div>\n",
       "<style scoped>\n",
       "    .dataframe tbody tr th:only-of-type {\n",
       "        vertical-align: middle;\n",
       "    }\n",
       "\n",
       "    .dataframe tbody tr th {\n",
       "        vertical-align: top;\n",
       "    }\n",
       "\n",
       "    .dataframe thead th {\n",
       "        text-align: right;\n",
       "    }\n",
       "</style>\n",
       "<table border=\"1\" class=\"dataframe\">\n",
       "  <thead>\n",
       "    <tr style=\"text-align: right;\">\n",
       "      <th></th>\n",
       "      <th>plaintiff_name</th>\n",
       "      <th>plaintiff_address</th>\n",
       "      <th>plainitiff_phone</th>\n",
       "      <th>plaintiff_email</th>\n",
       "      <th>agreement_date</th>\n",
       "      <th>lien_description</th>\n",
       "      <th>lien_open_closed</th>\n",
       "      <th>lienholder</th>\n",
       "      <th>attorney</th>\n",
       "      <th>id</th>\n",
       "    </tr>\n",
       "  </thead>\n",
       "  <tbody>\n",
       "    <tr>\n",
       "      <th>0</th>\n",
       "      <td>Steve Freud</td>\n",
       "      <td>4673 Cardath Ave</td>\n",
       "      <td>(936) 120-0443</td>\n",
       "      <td>sfreud@fake.gmail.com</td>\n",
       "      <td>4/16/2015</td>\n",
       "      <td>this is the first lien on the case , valued at...</td>\n",
       "      <td>OPEN</td>\n",
       "      <td>General Assembly</td>\n",
       "      <td>Joseph Breitstein</td>\n",
       "      <td>5010</td>\n",
       "    </tr>\n",
       "    <tr>\n",
       "      <th>1</th>\n",
       "      <td>Steve Freud</td>\n",
       "      <td>4673 Cardath Ave</td>\n",
       "      <td>(936) 120-0443</td>\n",
       "      <td>sfreud@fake.gmail.com</td>\n",
       "      <td>4/16/2015</td>\n",
       "      <td>second lien on the case</td>\n",
       "      <td>OPEN</td>\n",
       "      <td>General Assembly</td>\n",
       "      <td>Joseph Breitstein</td>\n",
       "      <td>5011</td>\n",
       "    </tr>\n",
       "    <tr>\n",
       "      <th>2</th>\n",
       "      <td>Jordan Leung</td>\n",
       "      <td>9261 Seside pl, NY</td>\n",
       "      <td>(736) 459-1203</td>\n",
       "      <td>charmander6@pokefan.com</td>\n",
       "      <td>9/19/2017</td>\n",
       "      <td>this interest has settled, waiting for payment</td>\n",
       "      <td>CLOSED</td>\n",
       "      <td>General Assembly</td>\n",
       "      <td>Julian Michaels</td>\n",
       "      <td>5012</td>\n",
       "    </tr>\n",
       "  </tbody>\n",
       "</table>\n",
       "</div>"
      ],
      "text/plain": [
       "  plaintiff_name   plaintiff_address plainitiff_phone  \\\n",
       "0    Steve Freud    4673 Cardath Ave   (936) 120-0443   \n",
       "1    Steve Freud    4673 Cardath Ave   (936) 120-0443   \n",
       "2   Jordan Leung  9261 Seside pl, NY   (736) 459-1203   \n",
       "\n",
       "           plaintiff_email agreement_date  \\\n",
       "0    sfreud@fake.gmail.com      4/16/2015   \n",
       "1    sfreud@fake.gmail.com      4/16/2015   \n",
       "2  charmander6@pokefan.com      9/19/2017   \n",
       "\n",
       "                                    lien_description lien_open_closed  \\\n",
       "0  this is the first lien on the case , valued at...             OPEN   \n",
       "1                            second lien on the case             OPEN   \n",
       "2     this interest has settled, waiting for payment           CLOSED   \n",
       "\n",
       "         lienholder           attorney    id  \n",
       "0  General Assembly  Joseph Breitstein  5010  \n",
       "1  General Assembly  Joseph Breitstein  5011  \n",
       "2  General Assembly    Julian Michaels  5012  "
      ]
     },
     "execution_count": 394,
     "metadata": {},
     "output_type": "execute_result"
    }
   ],
   "source": [
    "df.head(3)"
   ]
  },
  {
   "cell_type": "code",
   "execution_count": 395,
   "metadata": {},
   "outputs": [],
   "source": [
    "col_list = list(df.columns)\n",
    "col_list.remove('id')\n",
    "col_list = ['id'] + col_list\n",
    "col_list\n",
    "\n",
    "df = df[col_list]\n",
    "\n",
    "df.head(3)"
   ]
  },
  {
   "cell_type": "code",
   "execution_count": 401,
   "metadata": {},
   "outputs": [],
   "source": [
    "df.id = df.id.astype(int)"
   ]
  },
  {
   "cell_type": "code",
   "execution_count": 402,
   "metadata": {
    "scrolled": true
   },
   "outputs": [],
   "source": [
    "#df.plainitiff_phone = df.plainitiff_phone.astype(int)"
   ]
  },
  {
   "cell_type": "code",
   "execution_count": 403,
   "metadata": {},
   "outputs": [],
   "source": [
    "df.plainitiff_phone = df.plainitiff_phone.astype(str)"
   ]
  },
  {
   "cell_type": "code",
   "execution_count": 404,
   "metadata": {
    "scrolled": false
   },
   "outputs": [],
   "source": [
    "df.replace('nan', np.nan, inplace=True)"
   ]
  },
  {
   "cell_type": "code",
   "execution_count": null,
   "metadata": {},
   "outputs": [],
   "source": []
  },
  {
   "cell_type": "code",
   "execution_count": 405,
   "metadata": {},
   "outputs": [
    {
     "name": "stderr",
     "output_type": "stream",
     "text": [
      "/anaconda3/lib/python3.6/site-packages/ipykernel_launcher.py:9: SettingWithCopyWarning: \n",
      "A value is trying to be set on a copy of a slice from a DataFrame\n",
      "\n",
      "See the caveats in the documentation: http://pandas.pydata.org/pandas-docs/stable/indexing.html#indexing-view-versus-copy\n",
      "  if __name__ == '__main__':\n"
     ]
    }
   ],
   "source": [
    "for _ in range(len(df.plainitiff_phone)):\n",
    "    if type(df.plainitiff_phone[_]) == float:\n",
    "        pass\n",
    "    else:\n",
    "        number = ''\n",
    "        for i in re.findall('[0-9]', df.plainitiff_phone[_]):\n",
    "            number += str(i)\n",
    "        number = int(number)\n",
    "        df.plainitiff_phone[_] = number\n",
    "#return number"
   ]
  },
  {
   "cell_type": "code",
   "execution_count": null,
   "metadata": {},
   "outputs": [],
   "source": []
  },
  {
   "cell_type": "code",
   "execution_count": 406,
   "metadata": {},
   "outputs": [
    {
     "data": {
      "text/plain": [
       "int"
      ]
     },
     "execution_count": 406,
     "metadata": {},
     "output_type": "execute_result"
    }
   ],
   "source": [
    "type(df.plainitiff_phone[3])"
   ]
  },
  {
   "cell_type": "code",
   "execution_count": 407,
   "metadata": {},
   "outputs": [
    {
     "data": {
      "text/plain": [
       "str"
      ]
     },
     "execution_count": 407,
     "metadata": {},
     "output_type": "execute_result"
    }
   ],
   "source": [
    "type(df.agreement_date[0])"
   ]
  },
  {
   "cell_type": "code",
   "execution_count": 408,
   "metadata": {},
   "outputs": [
    {
     "data": {
      "text/plain": [
       "datetime.datetime(2015, 4, 16, 0, 0)"
      ]
     },
     "execution_count": 408,
     "metadata": {},
     "output_type": "execute_result"
    }
   ],
   "source": [
    "date_str = df.agreement_date[0] # The date - 29 Dec 2017\n",
    "format_str = '%m/%d/%Y' # The format\n",
    "datetime_obj = datetime.datetime.strptime(date_str, format_str)\n",
    "datetime_obj"
   ]
  },
  {
   "cell_type": "code",
   "execution_count": 409,
   "metadata": {
    "scrolled": true
   },
   "outputs": [
    {
     "name": "stderr",
     "output_type": "stream",
     "text": [
      "/anaconda3/lib/python3.6/site-packages/ipykernel_launcher.py:5: SettingWithCopyWarning: \n",
      "A value is trying to be set on a copy of a slice from a DataFrame\n",
      "\n",
      "See the caveats in the documentation: http://pandas.pydata.org/pandas-docs/stable/indexing.html#indexing-view-versus-copy\n",
      "  \"\"\"\n"
     ]
    }
   ],
   "source": [
    "for i in range(len(df.agreement_date)):\n",
    "    date_str = df.agreement_date[i]\n",
    "    format_str = '%m/%d/%Y'\n",
    "    datetime_obj = datetime.datetime.strptime(date_str, format_str)\n",
    "    df.agreement_date[i] = datetime_obj"
   ]
  },
  {
   "cell_type": "code",
   "execution_count": 359,
   "metadata": {
    "scrolled": false
   },
   "outputs": [
    {
     "data": {
      "text/plain": [
       "datetime.datetime"
      ]
     },
     "execution_count": 359,
     "metadata": {},
     "output_type": "execute_result"
    }
   ],
   "source": [
    "type(df.agreement_date[0])"
   ]
  },
  {
   "cell_type": "code",
   "execution_count": null,
   "metadata": {
    "scrolled": true
   },
   "outputs": [],
   "source": [
    "df.plainitiff_phone = df.plainitiff_phone.astype(int)"
   ]
  },
  {
   "cell_type": "code",
   "execution_count": null,
   "metadata": {},
   "outputs": [],
   "source": [
    "df.dtypes"
   ]
  },
  {
   "cell_type": "code",
   "execution_count": null,
   "metadata": {
    "scrolled": true
   },
   "outputs": [],
   "source": [
    "df.head()"
   ]
  },
  {
   "cell_type": "markdown",
   "metadata": {},
   "source": [
    "---"
   ]
  },
  {
   "cell_type": "markdown",
   "metadata": {},
   "source": [
    "# Function to create random ID's"
   ]
  },
  {
   "cell_type": "markdown",
   "metadata": {},
   "source": [
    "---"
   ]
  },
  {
   "cell_type": "code",
   "execution_count": 430,
   "metadata": {},
   "outputs": [],
   "source": [
    "keys_list = list(dict(df['attorney'].value_counts()).keys())\n",
    "\n",
    "temp_dict = {}\n",
    "for i in keys_list:\n",
    "    temp_dict[i] = np.random.randint(1000, 9999) \n",
    "\n",
    "df['attorney_id'] = 0\n",
    "for i in range(len(df['attorney'])):\n",
    "    if type(df['attorney'][i]) == float:\n",
    "        df['attorney_id'][i] = np.nan\n",
    "    else:\n",
    "        df['attorney_id'][i] = int(temp_dict[df['attorney'][i]])"
   ]
  },
  {
   "cell_type": "code",
   "execution_count": null,
   "metadata": {},
   "outputs": [],
   "source": []
  },
  {
   "cell_type": "code",
   "execution_count": 427,
   "metadata": {},
   "outputs": [
    {
     "data": {
      "text/html": [
       "<div>\n",
       "<style scoped>\n",
       "    .dataframe tbody tr th:only-of-type {\n",
       "        vertical-align: middle;\n",
       "    }\n",
       "\n",
       "    .dataframe tbody tr th {\n",
       "        vertical-align: top;\n",
       "    }\n",
       "\n",
       "    .dataframe thead th {\n",
       "        text-align: right;\n",
       "    }\n",
       "</style>\n",
       "<table border=\"1\" class=\"dataframe\">\n",
       "  <thead>\n",
       "    <tr style=\"text-align: right;\">\n",
       "      <th></th>\n",
       "      <th>id</th>\n",
       "      <th>plaintiff_name</th>\n",
       "      <th>plaintiff_address</th>\n",
       "      <th>plainitiff_phone</th>\n",
       "      <th>plaintiff_email</th>\n",
       "      <th>agreement_date</th>\n",
       "      <th>lien_description</th>\n",
       "      <th>lien_open_closed</th>\n",
       "      <th>lienholder</th>\n",
       "      <th>attorney</th>\n",
       "      <th>attorney_id</th>\n",
       "    </tr>\n",
       "  </thead>\n",
       "  <tbody>\n",
       "    <tr>\n",
       "      <th>0</th>\n",
       "      <td>5010</td>\n",
       "      <td>Steve Freud</td>\n",
       "      <td>4673 Cardath Ave</td>\n",
       "      <td>9361200443</td>\n",
       "      <td>sfreud@fake.gmail.com</td>\n",
       "      <td>2015-04-16 00:00:00</td>\n",
       "      <td>this is the first lien on the case , valued at...</td>\n",
       "      <td>OPEN</td>\n",
       "      <td>General Assembly</td>\n",
       "      <td>Joseph Breitstein</td>\n",
       "      <td>3223.0</td>\n",
       "    </tr>\n",
       "    <tr>\n",
       "      <th>1</th>\n",
       "      <td>5011</td>\n",
       "      <td>Steve Freud</td>\n",
       "      <td>4673 Cardath Ave</td>\n",
       "      <td>9361200443</td>\n",
       "      <td>sfreud@fake.gmail.com</td>\n",
       "      <td>2015-04-16 00:00:00</td>\n",
       "      <td>second lien on the case</td>\n",
       "      <td>OPEN</td>\n",
       "      <td>General Assembly</td>\n",
       "      <td>Joseph Breitstein</td>\n",
       "      <td>3223.0</td>\n",
       "    </tr>\n",
       "    <tr>\n",
       "      <th>2</th>\n",
       "      <td>5012</td>\n",
       "      <td>Jordan Leung</td>\n",
       "      <td>9261 Seside pl, NY</td>\n",
       "      <td>7364591203</td>\n",
       "      <td>charmander6@pokefan.com</td>\n",
       "      <td>2017-09-19 00:00:00</td>\n",
       "      <td>this interest has settled, waiting for payment</td>\n",
       "      <td>CLOSED</td>\n",
       "      <td>General Assembly</td>\n",
       "      <td>Julian Michaels</td>\n",
       "      <td>2452.0</td>\n",
       "    </tr>\n",
       "    <tr>\n",
       "      <th>3</th>\n",
       "      <td>5013</td>\n",
       "      <td>Bryce Eakin</td>\n",
       "      <td>6947 Palm Beach way, new York, NY 18342</td>\n",
       "      <td>8262592768</td>\n",
       "      <td>beakin@fake.gmail.com</td>\n",
       "      <td>2018-02-02 00:00:00</td>\n",
       "      <td>700</td>\n",
       "      <td>OPEN</td>\n",
       "      <td>General Assembly</td>\n",
       "      <td>Joseph Breitstein</td>\n",
       "      <td>3223.0</td>\n",
       "    </tr>\n",
       "    <tr>\n",
       "      <th>4</th>\n",
       "      <td>5014</td>\n",
       "      <td>Kyle Paine</td>\n",
       "      <td>NaN</td>\n",
       "      <td>NaN</td>\n",
       "      <td>kpaine@fake.gmail.com</td>\n",
       "      <td>2017-06-09 00:00:00</td>\n",
       "      <td>value is 100,000 pay off is expected to be tak...</td>\n",
       "      <td>OPEN</td>\n",
       "      <td>General Assembly</td>\n",
       "      <td>NaN</td>\n",
       "      <td>NaN</td>\n",
       "    </tr>\n",
       "    <tr>\n",
       "      <th>5</th>\n",
       "      <td>5015</td>\n",
       "      <td>Mikey Bipps</td>\n",
       "      <td>NaN</td>\n",
       "      <td>9372760317</td>\n",
       "      <td>NaN</td>\n",
       "      <td>2018-05-27 00:00:00</td>\n",
       "      <td>bought at 30% of value, value is 300</td>\n",
       "      <td>OPEN</td>\n",
       "      <td>General Assembly</td>\n",
       "      <td>Joseph Breitstein</td>\n",
       "      <td>3223.0</td>\n",
       "    </tr>\n",
       "    <tr>\n",
       "      <th>6</th>\n",
       "      <td>5016</td>\n",
       "      <td>Tommy Boi</td>\n",
       "      <td>NaN</td>\n",
       "      <td>9036406</td>\n",
       "      <td>NaN</td>\n",
       "      <td>2019-01-02 00:00:00</td>\n",
       "      <td>values is 400</td>\n",
       "      <td>CLOSED</td>\n",
       "      <td>General Assembly</td>\n",
       "      <td>Sarah McConnor</td>\n",
       "      <td>9394.0</td>\n",
       "    </tr>\n",
       "    <tr>\n",
       "      <th>7</th>\n",
       "      <td>5017</td>\n",
       "      <td>Mimi Swerve</td>\n",
       "      <td>8456 Lexington, Manhattan NY</td>\n",
       "      <td>NaN</td>\n",
       "      <td>mimis@fake.yahoo.com</td>\n",
       "      <td>2017-04-07 00:00:00</td>\n",
       "      <td>plaintiff is requesting additional liens</td>\n",
       "      <td>OPEN</td>\n",
       "      <td>General Assembly</td>\n",
       "      <td>Lisle Von Trapp</td>\n",
       "      <td>6876.0</td>\n",
       "    </tr>\n",
       "  </tbody>\n",
       "</table>\n",
       "</div>"
      ],
      "text/plain": [
       "     id plaintiff_name                        plaintiff_address  \\\n",
       "0  5010    Steve Freud                         4673 Cardath Ave   \n",
       "1  5011    Steve Freud                         4673 Cardath Ave   \n",
       "2  5012   Jordan Leung                       9261 Seside pl, NY   \n",
       "3  5013    Bryce Eakin  6947 Palm Beach way, new York, NY 18342   \n",
       "4  5014     Kyle Paine                                      NaN   \n",
       "5  5015   Mikey Bipps                                       NaN   \n",
       "6  5016      Tommy Boi                                      NaN   \n",
       "7  5017    Mimi Swerve             8456 Lexington, Manhattan NY   \n",
       "\n",
       "  plainitiff_phone          plaintiff_email       agreement_date  \\\n",
       "0       9361200443    sfreud@fake.gmail.com  2015-04-16 00:00:00   \n",
       "1       9361200443    sfreud@fake.gmail.com  2015-04-16 00:00:00   \n",
       "2       7364591203  charmander6@pokefan.com  2017-09-19 00:00:00   \n",
       "3       8262592768    beakin@fake.gmail.com  2018-02-02 00:00:00   \n",
       "4              NaN    kpaine@fake.gmail.com  2017-06-09 00:00:00   \n",
       "5       9372760317                      NaN  2018-05-27 00:00:00   \n",
       "6          9036406                      NaN  2019-01-02 00:00:00   \n",
       "7              NaN     mimis@fake.yahoo.com  2017-04-07 00:00:00   \n",
       "\n",
       "                                    lien_description lien_open_closed  \\\n",
       "0  this is the first lien on the case , valued at...             OPEN   \n",
       "1                            second lien on the case             OPEN   \n",
       "2     this interest has settled, waiting for payment           CLOSED   \n",
       "3                                                700             OPEN   \n",
       "4  value is 100,000 pay off is expected to be tak...             OPEN   \n",
       "5               bought at 30% of value, value is 300             OPEN   \n",
       "6                                      values is 400           CLOSED   \n",
       "7           plaintiff is requesting additional liens             OPEN   \n",
       "\n",
       "         lienholder           attorney  attorney_id  \n",
       "0  General Assembly  Joseph Breitstein       3223.0  \n",
       "1  General Assembly  Joseph Breitstein       3223.0  \n",
       "2  General Assembly    Julian Michaels       2452.0  \n",
       "3  General Assembly  Joseph Breitstein       3223.0  \n",
       "4  General Assembly                NaN          NaN  \n",
       "5  General Assembly  Joseph Breitstein       3223.0  \n",
       "6  General Assembly     Sarah McConnor       9394.0  \n",
       "7  General Assembly    Lisle Von Trapp       6876.0  "
      ]
     },
     "execution_count": 427,
     "metadata": {},
     "output_type": "execute_result"
    }
   ],
   "source": [
    "df"
   ]
  },
  {
   "cell_type": "code",
   "execution_count": null,
   "metadata": {},
   "outputs": [],
   "source": []
  },
  {
   "cell_type": "markdown",
   "metadata": {},
   "source": [
    "---"
   ]
  },
  {
   "cell_type": "markdown",
   "metadata": {},
   "source": [
    "# Plaintiffs table"
   ]
  },
  {
   "cell_type": "markdown",
   "metadata": {},
   "source": [
    "---"
   ]
  },
  {
   "cell_type": "code",
   "execution_count": null,
   "metadata": {},
   "outputs": [],
   "source": [
    "df.columns"
   ]
  },
  {
   "cell_type": "code",
   "execution_count": null,
   "metadata": {},
   "outputs": [],
   "source": [
    "df_plaintiffs = df[['id', 'plaintiff_name', 'plaintiff_address', 'plainitiff_phone',\n",
    "       'plaintiff_email']]"
   ]
  },
  {
   "cell_type": "code",
   "execution_count": null,
   "metadata": {},
   "outputs": [],
   "source": [
    "df_plaintiffs"
   ]
  },
  {
   "cell_type": "code",
   "execution_count": null,
   "metadata": {},
   "outputs": [],
   "source": [
    "df_plaintiffs.dtypes"
   ]
  },
  {
   "cell_type": "code",
   "execution_count": null,
   "metadata": {},
   "outputs": [],
   "source": [
    "df_plaintiffs = df_plaintiffs.drop_duplicates(subset=['plaintiff_name', 'plaintiff_address', 'plainitiff_phone',\n",
    "       'plaintiff_email'])"
   ]
  },
  {
   "cell_type": "code",
   "execution_count": null,
   "metadata": {
    "scrolled": true
   },
   "outputs": [],
   "source": [
    "df_plaintiffs"
   ]
  },
  {
   "cell_type": "code",
   "execution_count": null,
   "metadata": {},
   "outputs": [],
   "source": []
  },
  {
   "cell_type": "code",
   "execution_count": null,
   "metadata": {},
   "outputs": [],
   "source": []
  },
  {
   "cell_type": "code",
   "execution_count": null,
   "metadata": {},
   "outputs": [],
   "source": []
  },
  {
   "cell_type": "code",
   "execution_count": null,
   "metadata": {},
   "outputs": [],
   "source": []
  },
  {
   "cell_type": "code",
   "execution_count": null,
   "metadata": {},
   "outputs": [],
   "source": []
  },
  {
   "cell_type": "code",
   "execution_count": null,
   "metadata": {},
   "outputs": [],
   "source": []
  },
  {
   "cell_type": "code",
   "execution_count": null,
   "metadata": {},
   "outputs": [],
   "source": []
  },
  {
   "cell_type": "code",
   "execution_count": null,
   "metadata": {},
   "outputs": [],
   "source": []
  },
  {
   "cell_type": "code",
   "execution_count": null,
   "metadata": {},
   "outputs": [],
   "source": []
  },
  {
   "cell_type": "code",
   "execution_count": null,
   "metadata": {},
   "outputs": [],
   "source": []
  },
  {
   "cell_type": "code",
   "execution_count": null,
   "metadata": {},
   "outputs": [],
   "source": []
  },
  {
   "cell_type": "code",
   "execution_count": null,
   "metadata": {},
   "outputs": [],
   "source": []
  },
  {
   "cell_type": "code",
   "execution_count": null,
   "metadata": {},
   "outputs": [],
   "source": [
    "temp_list = []\n",
    "for i in range(len(attorney)):\n",
    "    if attorney[i] in temp_list:\n",
    "        pass\n",
    "    else:\n",
    "        temp_list.append(i)\n",
    "        "
   ]
  }
 ],
 "metadata": {
  "kernelspec": {
   "display_name": "Python 3",
   "language": "python",
   "name": "python3"
  },
  "language_info": {
   "codemirror_mode": {
    "name": "ipython",
    "version": 3
   },
   "file_extension": ".py",
   "mimetype": "text/x-python",
   "name": "python",
   "nbconvert_exporter": "python",
   "pygments_lexer": "ipython3",
   "version": "3.6.5"
  }
 },
 "nbformat": 4,
 "nbformat_minor": 2
}
